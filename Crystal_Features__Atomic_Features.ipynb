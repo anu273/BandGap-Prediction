{
  "nbformat": 4,
  "nbformat_minor": 0,
  "metadata": {
    "colab": {
      "provenance": [],
      "gpuType": "T4",
      "authorship_tag": "ABX9TyPGBL8snuzu1r+dzuyoXlEd",
      "include_colab_link": true
    },
    "kernelspec": {
      "name": "python3",
      "display_name": "Python 3"
    },
    "language_info": {
      "name": "python"
    },
    "widgets": {
      "application/vnd.jupyter.widget-state+json": {
        "ee74a2a370834e1b948b7f0192ab5977": {
          "model_module": "@jupyter-widgets/controls",
          "model_name": "HBoxModel",
          "model_module_version": "1.5.0",
          "state": {
            "_dom_classes": [],
            "_model_module": "@jupyter-widgets/controls",
            "_model_module_version": "1.5.0",
            "_model_name": "HBoxModel",
            "_view_count": null,
            "_view_module": "@jupyter-widgets/controls",
            "_view_module_version": "1.5.0",
            "_view_name": "HBoxView",
            "box_style": "",
            "children": [
              "IPY_MODEL_cba36a90635d40ab8b5f1b3b2355acce",
              "IPY_MODEL_d6fd5579430d47978e2cfa120a747b3e",
              "IPY_MODEL_72cd6dacaef6444ea93b1d2d45040514"
            ],
            "layout": "IPY_MODEL_7d54ce765f2d477281747f88a5b6b0d8"
          }
        },
        "cba36a90635d40ab8b5f1b3b2355acce": {
          "model_module": "@jupyter-widgets/controls",
          "model_name": "HTMLModel",
          "model_module_version": "1.5.0",
          "state": {
            "_dom_classes": [],
            "_model_module": "@jupyter-widgets/controls",
            "_model_module_version": "1.5.0",
            "_model_name": "HTMLModel",
            "_view_count": null,
            "_view_module": "@jupyter-widgets/controls",
            "_view_module_version": "1.5.0",
            "_view_name": "HTMLView",
            "description": "",
            "description_tooltip": null,
            "layout": "IPY_MODEL_89d15cbb277d4bffa269eba5dfe2cb7e",
            "placeholder": "​",
            "style": "IPY_MODEL_cfef4af80cc6465aa93f0dee47b2f0c7",
            "value": "Retrieving MaterialsDoc documents: 100%"
          }
        },
        "d6fd5579430d47978e2cfa120a747b3e": {
          "model_module": "@jupyter-widgets/controls",
          "model_name": "FloatProgressModel",
          "model_module_version": "1.5.0",
          "state": {
            "_dom_classes": [],
            "_model_module": "@jupyter-widgets/controls",
            "_model_module_version": "1.5.0",
            "_model_name": "FloatProgressModel",
            "_view_count": null,
            "_view_module": "@jupyter-widgets/controls",
            "_view_module_version": "1.5.0",
            "_view_name": "ProgressView",
            "bar_style": "success",
            "description": "",
            "description_tooltip": null,
            "layout": "IPY_MODEL_2bad48c08cf04322abe0a37fc0665554",
            "max": 1,
            "min": 0,
            "orientation": "horizontal",
            "style": "IPY_MODEL_ccc85880ba324dc1bf29dbd9cdd487f3",
            "value": 1
          }
        },
        "72cd6dacaef6444ea93b1d2d45040514": {
          "model_module": "@jupyter-widgets/controls",
          "model_name": "HTMLModel",
          "model_module_version": "1.5.0",
          "state": {
            "_dom_classes": [],
            "_model_module": "@jupyter-widgets/controls",
            "_model_module_version": "1.5.0",
            "_model_name": "HTMLModel",
            "_view_count": null,
            "_view_module": "@jupyter-widgets/controls",
            "_view_module_version": "1.5.0",
            "_view_name": "HTMLView",
            "description": "",
            "description_tooltip": null,
            "layout": "IPY_MODEL_b3eb147e1ed644018125b089e1c09a1a",
            "placeholder": "​",
            "style": "IPY_MODEL_0b62ce2c39f94909abe160485be6f5ce",
            "value": " 1/1 [00:00&lt;00:00, 33.35it/s]"
          }
        },
        "7d54ce765f2d477281747f88a5b6b0d8": {
          "model_module": "@jupyter-widgets/base",
          "model_name": "LayoutModel",
          "model_module_version": "1.2.0",
          "state": {
            "_model_module": "@jupyter-widgets/base",
            "_model_module_version": "1.2.0",
            "_model_name": "LayoutModel",
            "_view_count": null,
            "_view_module": "@jupyter-widgets/base",
            "_view_module_version": "1.2.0",
            "_view_name": "LayoutView",
            "align_content": null,
            "align_items": null,
            "align_self": null,
            "border": null,
            "bottom": null,
            "display": null,
            "flex": null,
            "flex_flow": null,
            "grid_area": null,
            "grid_auto_columns": null,
            "grid_auto_flow": null,
            "grid_auto_rows": null,
            "grid_column": null,
            "grid_gap": null,
            "grid_row": null,
            "grid_template_areas": null,
            "grid_template_columns": null,
            "grid_template_rows": null,
            "height": null,
            "justify_content": null,
            "justify_items": null,
            "left": null,
            "margin": null,
            "max_height": null,
            "max_width": null,
            "min_height": null,
            "min_width": null,
            "object_fit": null,
            "object_position": null,
            "order": null,
            "overflow": null,
            "overflow_x": null,
            "overflow_y": null,
            "padding": null,
            "right": null,
            "top": null,
            "visibility": null,
            "width": null
          }
        },
        "89d15cbb277d4bffa269eba5dfe2cb7e": {
          "model_module": "@jupyter-widgets/base",
          "model_name": "LayoutModel",
          "model_module_version": "1.2.0",
          "state": {
            "_model_module": "@jupyter-widgets/base",
            "_model_module_version": "1.2.0",
            "_model_name": "LayoutModel",
            "_view_count": null,
            "_view_module": "@jupyter-widgets/base",
            "_view_module_version": "1.2.0",
            "_view_name": "LayoutView",
            "align_content": null,
            "align_items": null,
            "align_self": null,
            "border": null,
            "bottom": null,
            "display": null,
            "flex": null,
            "flex_flow": null,
            "grid_area": null,
            "grid_auto_columns": null,
            "grid_auto_flow": null,
            "grid_auto_rows": null,
            "grid_column": null,
            "grid_gap": null,
            "grid_row": null,
            "grid_template_areas": null,
            "grid_template_columns": null,
            "grid_template_rows": null,
            "height": null,
            "justify_content": null,
            "justify_items": null,
            "left": null,
            "margin": null,
            "max_height": null,
            "max_width": null,
            "min_height": null,
            "min_width": null,
            "object_fit": null,
            "object_position": null,
            "order": null,
            "overflow": null,
            "overflow_x": null,
            "overflow_y": null,
            "padding": null,
            "right": null,
            "top": null,
            "visibility": null,
            "width": null
          }
        },
        "cfef4af80cc6465aa93f0dee47b2f0c7": {
          "model_module": "@jupyter-widgets/controls",
          "model_name": "DescriptionStyleModel",
          "model_module_version": "1.5.0",
          "state": {
            "_model_module": "@jupyter-widgets/controls",
            "_model_module_version": "1.5.0",
            "_model_name": "DescriptionStyleModel",
            "_view_count": null,
            "_view_module": "@jupyter-widgets/base",
            "_view_module_version": "1.2.0",
            "_view_name": "StyleView",
            "description_width": ""
          }
        },
        "2bad48c08cf04322abe0a37fc0665554": {
          "model_module": "@jupyter-widgets/base",
          "model_name": "LayoutModel",
          "model_module_version": "1.2.0",
          "state": {
            "_model_module": "@jupyter-widgets/base",
            "_model_module_version": "1.2.0",
            "_model_name": "LayoutModel",
            "_view_count": null,
            "_view_module": "@jupyter-widgets/base",
            "_view_module_version": "1.2.0",
            "_view_name": "LayoutView",
            "align_content": null,
            "align_items": null,
            "align_self": null,
            "border": null,
            "bottom": null,
            "display": null,
            "flex": null,
            "flex_flow": null,
            "grid_area": null,
            "grid_auto_columns": null,
            "grid_auto_flow": null,
            "grid_auto_rows": null,
            "grid_column": null,
            "grid_gap": null,
            "grid_row": null,
            "grid_template_areas": null,
            "grid_template_columns": null,
            "grid_template_rows": null,
            "height": null,
            "justify_content": null,
            "justify_items": null,
            "left": null,
            "margin": null,
            "max_height": null,
            "max_width": null,
            "min_height": null,
            "min_width": null,
            "object_fit": null,
            "object_position": null,
            "order": null,
            "overflow": null,
            "overflow_x": null,
            "overflow_y": null,
            "padding": null,
            "right": null,
            "top": null,
            "visibility": null,
            "width": null
          }
        },
        "ccc85880ba324dc1bf29dbd9cdd487f3": {
          "model_module": "@jupyter-widgets/controls",
          "model_name": "ProgressStyleModel",
          "model_module_version": "1.5.0",
          "state": {
            "_model_module": "@jupyter-widgets/controls",
            "_model_module_version": "1.5.0",
            "_model_name": "ProgressStyleModel",
            "_view_count": null,
            "_view_module": "@jupyter-widgets/base",
            "_view_module_version": "1.2.0",
            "_view_name": "StyleView",
            "bar_color": null,
            "description_width": ""
          }
        },
        "b3eb147e1ed644018125b089e1c09a1a": {
          "model_module": "@jupyter-widgets/base",
          "model_name": "LayoutModel",
          "model_module_version": "1.2.0",
          "state": {
            "_model_module": "@jupyter-widgets/base",
            "_model_module_version": "1.2.0",
            "_model_name": "LayoutModel",
            "_view_count": null,
            "_view_module": "@jupyter-widgets/base",
            "_view_module_version": "1.2.0",
            "_view_name": "LayoutView",
            "align_content": null,
            "align_items": null,
            "align_self": null,
            "border": null,
            "bottom": null,
            "display": null,
            "flex": null,
            "flex_flow": null,
            "grid_area": null,
            "grid_auto_columns": null,
            "grid_auto_flow": null,
            "grid_auto_rows": null,
            "grid_column": null,
            "grid_gap": null,
            "grid_row": null,
            "grid_template_areas": null,
            "grid_template_columns": null,
            "grid_template_rows": null,
            "height": null,
            "justify_content": null,
            "justify_items": null,
            "left": null,
            "margin": null,
            "max_height": null,
            "max_width": null,
            "min_height": null,
            "min_width": null,
            "object_fit": null,
            "object_position": null,
            "order": null,
            "overflow": null,
            "overflow_x": null,
            "overflow_y": null,
            "padding": null,
            "right": null,
            "top": null,
            "visibility": null,
            "width": null
          }
        },
        "0b62ce2c39f94909abe160485be6f5ce": {
          "model_module": "@jupyter-widgets/controls",
          "model_name": "DescriptionStyleModel",
          "model_module_version": "1.5.0",
          "state": {
            "_model_module": "@jupyter-widgets/controls",
            "_model_module_version": "1.5.0",
            "_model_name": "DescriptionStyleModel",
            "_view_count": null,
            "_view_module": "@jupyter-widgets/base",
            "_view_module_version": "1.2.0",
            "_view_name": "StyleView",
            "description_width": ""
          }
        },
        "0368dc4831434b2493ec93365b77048f": {
          "model_module": "@jupyter-widgets/controls",
          "model_name": "HBoxModel",
          "model_module_version": "1.5.0",
          "state": {
            "_dom_classes": [],
            "_model_module": "@jupyter-widgets/controls",
            "_model_module_version": "1.5.0",
            "_model_name": "HBoxModel",
            "_view_count": null,
            "_view_module": "@jupyter-widgets/controls",
            "_view_module_version": "1.5.0",
            "_view_name": "HBoxView",
            "box_style": "",
            "children": [
              "IPY_MODEL_3cd827aa70a74c899575e107944d777f",
              "IPY_MODEL_441cd73e627844939c3a1bd5984595df",
              "IPY_MODEL_b677b07c9d5d42839ac061385cf31e8f"
            ],
            "layout": "IPY_MODEL_e894720d84ab489cb5674bd7f68b4638"
          }
        },
        "3cd827aa70a74c899575e107944d777f": {
          "model_module": "@jupyter-widgets/controls",
          "model_name": "HTMLModel",
          "model_module_version": "1.5.0",
          "state": {
            "_dom_classes": [],
            "_model_module": "@jupyter-widgets/controls",
            "_model_module_version": "1.5.0",
            "_model_name": "HTMLModel",
            "_view_count": null,
            "_view_module": "@jupyter-widgets/controls",
            "_view_module_version": "1.5.0",
            "_view_name": "HTMLView",
            "description": "",
            "description_tooltip": null,
            "layout": "IPY_MODEL_a9caed19df07475690f4afaba48be7bd",
            "placeholder": "​",
            "style": "IPY_MODEL_f2fb85c542d240cdb67872333fa28273",
            "value": "Retrieving SummaryDoc documents: 100%"
          }
        },
        "441cd73e627844939c3a1bd5984595df": {
          "model_module": "@jupyter-widgets/controls",
          "model_name": "FloatProgressModel",
          "model_module_version": "1.5.0",
          "state": {
            "_dom_classes": [],
            "_model_module": "@jupyter-widgets/controls",
            "_model_module_version": "1.5.0",
            "_model_name": "FloatProgressModel",
            "_view_count": null,
            "_view_module": "@jupyter-widgets/controls",
            "_view_module_version": "1.5.0",
            "_view_name": "ProgressView",
            "bar_style": "success",
            "description": "",
            "description_tooltip": null,
            "layout": "IPY_MODEL_81b9ce1afc1248668ab890217cfaf8d6",
            "max": 3672,
            "min": 0,
            "orientation": "horizontal",
            "style": "IPY_MODEL_23343ef8b5804eebb2ffa25b100cd924",
            "value": 3672
          }
        },
        "b677b07c9d5d42839ac061385cf31e8f": {
          "model_module": "@jupyter-widgets/controls",
          "model_name": "HTMLModel",
          "model_module_version": "1.5.0",
          "state": {
            "_dom_classes": [],
            "_model_module": "@jupyter-widgets/controls",
            "_model_module_version": "1.5.0",
            "_model_name": "HTMLModel",
            "_view_count": null,
            "_view_module": "@jupyter-widgets/controls",
            "_view_module_version": "1.5.0",
            "_view_name": "HTMLView",
            "description": "",
            "description_tooltip": null,
            "layout": "IPY_MODEL_06f4b66cea314090a6122f6afda21f93",
            "placeholder": "​",
            "style": "IPY_MODEL_bd489eff58fb4800bf67a2d8f4bede0a",
            "value": " 3672/3672 [00:01&lt;00:00, 2527.24it/s]"
          }
        },
        "e894720d84ab489cb5674bd7f68b4638": {
          "model_module": "@jupyter-widgets/base",
          "model_name": "LayoutModel",
          "model_module_version": "1.2.0",
          "state": {
            "_model_module": "@jupyter-widgets/base",
            "_model_module_version": "1.2.0",
            "_model_name": "LayoutModel",
            "_view_count": null,
            "_view_module": "@jupyter-widgets/base",
            "_view_module_version": "1.2.0",
            "_view_name": "LayoutView",
            "align_content": null,
            "align_items": null,
            "align_self": null,
            "border": null,
            "bottom": null,
            "display": null,
            "flex": null,
            "flex_flow": null,
            "grid_area": null,
            "grid_auto_columns": null,
            "grid_auto_flow": null,
            "grid_auto_rows": null,
            "grid_column": null,
            "grid_gap": null,
            "grid_row": null,
            "grid_template_areas": null,
            "grid_template_columns": null,
            "grid_template_rows": null,
            "height": null,
            "justify_content": null,
            "justify_items": null,
            "left": null,
            "margin": null,
            "max_height": null,
            "max_width": null,
            "min_height": null,
            "min_width": null,
            "object_fit": null,
            "object_position": null,
            "order": null,
            "overflow": null,
            "overflow_x": null,
            "overflow_y": null,
            "padding": null,
            "right": null,
            "top": null,
            "visibility": null,
            "width": null
          }
        },
        "a9caed19df07475690f4afaba48be7bd": {
          "model_module": "@jupyter-widgets/base",
          "model_name": "LayoutModel",
          "model_module_version": "1.2.0",
          "state": {
            "_model_module": "@jupyter-widgets/base",
            "_model_module_version": "1.2.0",
            "_model_name": "LayoutModel",
            "_view_count": null,
            "_view_module": "@jupyter-widgets/base",
            "_view_module_version": "1.2.0",
            "_view_name": "LayoutView",
            "align_content": null,
            "align_items": null,
            "align_self": null,
            "border": null,
            "bottom": null,
            "display": null,
            "flex": null,
            "flex_flow": null,
            "grid_area": null,
            "grid_auto_columns": null,
            "grid_auto_flow": null,
            "grid_auto_rows": null,
            "grid_column": null,
            "grid_gap": null,
            "grid_row": null,
            "grid_template_areas": null,
            "grid_template_columns": null,
            "grid_template_rows": null,
            "height": null,
            "justify_content": null,
            "justify_items": null,
            "left": null,
            "margin": null,
            "max_height": null,
            "max_width": null,
            "min_height": null,
            "min_width": null,
            "object_fit": null,
            "object_position": null,
            "order": null,
            "overflow": null,
            "overflow_x": null,
            "overflow_y": null,
            "padding": null,
            "right": null,
            "top": null,
            "visibility": null,
            "width": null
          }
        },
        "f2fb85c542d240cdb67872333fa28273": {
          "model_module": "@jupyter-widgets/controls",
          "model_name": "DescriptionStyleModel",
          "model_module_version": "1.5.0",
          "state": {
            "_model_module": "@jupyter-widgets/controls",
            "_model_module_version": "1.5.0",
            "_model_name": "DescriptionStyleModel",
            "_view_count": null,
            "_view_module": "@jupyter-widgets/base",
            "_view_module_version": "1.2.0",
            "_view_name": "StyleView",
            "description_width": ""
          }
        },
        "81b9ce1afc1248668ab890217cfaf8d6": {
          "model_module": "@jupyter-widgets/base",
          "model_name": "LayoutModel",
          "model_module_version": "1.2.0",
          "state": {
            "_model_module": "@jupyter-widgets/base",
            "_model_module_version": "1.2.0",
            "_model_name": "LayoutModel",
            "_view_count": null,
            "_view_module": "@jupyter-widgets/base",
            "_view_module_version": "1.2.0",
            "_view_name": "LayoutView",
            "align_content": null,
            "align_items": null,
            "align_self": null,
            "border": null,
            "bottom": null,
            "display": null,
            "flex": null,
            "flex_flow": null,
            "grid_area": null,
            "grid_auto_columns": null,
            "grid_auto_flow": null,
            "grid_auto_rows": null,
            "grid_column": null,
            "grid_gap": null,
            "grid_row": null,
            "grid_template_areas": null,
            "grid_template_columns": null,
            "grid_template_rows": null,
            "height": null,
            "justify_content": null,
            "justify_items": null,
            "left": null,
            "margin": null,
            "max_height": null,
            "max_width": null,
            "min_height": null,
            "min_width": null,
            "object_fit": null,
            "object_position": null,
            "order": null,
            "overflow": null,
            "overflow_x": null,
            "overflow_y": null,
            "padding": null,
            "right": null,
            "top": null,
            "visibility": null,
            "width": null
          }
        },
        "23343ef8b5804eebb2ffa25b100cd924": {
          "model_module": "@jupyter-widgets/controls",
          "model_name": "ProgressStyleModel",
          "model_module_version": "1.5.0",
          "state": {
            "_model_module": "@jupyter-widgets/controls",
            "_model_module_version": "1.5.0",
            "_model_name": "ProgressStyleModel",
            "_view_count": null,
            "_view_module": "@jupyter-widgets/base",
            "_view_module_version": "1.2.0",
            "_view_name": "StyleView",
            "bar_color": null,
            "description_width": ""
          }
        },
        "06f4b66cea314090a6122f6afda21f93": {
          "model_module": "@jupyter-widgets/base",
          "model_name": "LayoutModel",
          "model_module_version": "1.2.0",
          "state": {
            "_model_module": "@jupyter-widgets/base",
            "_model_module_version": "1.2.0",
            "_model_name": "LayoutModel",
            "_view_count": null,
            "_view_module": "@jupyter-widgets/base",
            "_view_module_version": "1.2.0",
            "_view_name": "LayoutView",
            "align_content": null,
            "align_items": null,
            "align_self": null,
            "border": null,
            "bottom": null,
            "display": null,
            "flex": null,
            "flex_flow": null,
            "grid_area": null,
            "grid_auto_columns": null,
            "grid_auto_flow": null,
            "grid_auto_rows": null,
            "grid_column": null,
            "grid_gap": null,
            "grid_row": null,
            "grid_template_areas": null,
            "grid_template_columns": null,
            "grid_template_rows": null,
            "height": null,
            "justify_content": null,
            "justify_items": null,
            "left": null,
            "margin": null,
            "max_height": null,
            "max_width": null,
            "min_height": null,
            "min_width": null,
            "object_fit": null,
            "object_position": null,
            "order": null,
            "overflow": null,
            "overflow_x": null,
            "overflow_y": null,
            "padding": null,
            "right": null,
            "top": null,
            "visibility": null,
            "width": null
          }
        },
        "bd489eff58fb4800bf67a2d8f4bede0a": {
          "model_module": "@jupyter-widgets/controls",
          "model_name": "DescriptionStyleModel",
          "model_module_version": "1.5.0",
          "state": {
            "_model_module": "@jupyter-widgets/controls",
            "_model_module_version": "1.5.0",
            "_model_name": "DescriptionStyleModel",
            "_view_count": null,
            "_view_module": "@jupyter-widgets/base",
            "_view_module_version": "1.2.0",
            "_view_name": "StyleView",
            "description_width": ""
          }
        },
        "5729707e6dea4e8d99f454fe55dfdebe": {
          "model_module": "@jupyter-widgets/controls",
          "model_name": "HBoxModel",
          "model_module_version": "1.5.0",
          "state": {
            "_dom_classes": [],
            "_model_module": "@jupyter-widgets/controls",
            "_model_module_version": "1.5.0",
            "_model_name": "HBoxModel",
            "_view_count": null,
            "_view_module": "@jupyter-widgets/controls",
            "_view_module_version": "1.5.0",
            "_view_name": "HBoxView",
            "box_style": "",
            "children": [
              "IPY_MODEL_6d464f45a9974535aec60969e1fd5782",
              "IPY_MODEL_d6c6420b5cef42b69140a170f62028c8",
              "IPY_MODEL_842ada22e9c547b2975158cdd1fb6b21"
            ],
            "layout": "IPY_MODEL_5652a47ca98e4460afa113e6d19d0feb"
          }
        },
        "6d464f45a9974535aec60969e1fd5782": {
          "model_module": "@jupyter-widgets/controls",
          "model_name": "HTMLModel",
          "model_module_version": "1.5.0",
          "state": {
            "_dom_classes": [],
            "_model_module": "@jupyter-widgets/controls",
            "_model_module_version": "1.5.0",
            "_model_name": "HTMLModel",
            "_view_count": null,
            "_view_module": "@jupyter-widgets/controls",
            "_view_module_version": "1.5.0",
            "_view_name": "HTMLView",
            "description": "",
            "description_tooltip": null,
            "layout": "IPY_MODEL_92dfd18c9f9b4cfaa0299584c844281f",
            "placeholder": "​",
            "style": "IPY_MODEL_bdced504a9b245f68b7581ed3c9965b5",
            "value": "Retrieving SummaryDoc documents: 100%"
          }
        },
        "d6c6420b5cef42b69140a170f62028c8": {
          "model_module": "@jupyter-widgets/controls",
          "model_name": "FloatProgressModel",
          "model_module_version": "1.5.0",
          "state": {
            "_dom_classes": [],
            "_model_module": "@jupyter-widgets/controls",
            "_model_module_version": "1.5.0",
            "_model_name": "FloatProgressModel",
            "_view_count": null,
            "_view_module": "@jupyter-widgets/controls",
            "_view_module_version": "1.5.0",
            "_view_name": "ProgressView",
            "bar_style": "success",
            "description": "",
            "description_tooltip": null,
            "layout": "IPY_MODEL_59d967661fc54321b364ff135c80ce6c",
            "max": 4555,
            "min": 0,
            "orientation": "horizontal",
            "style": "IPY_MODEL_0a7642ecd7984e1fbe290008de2c8cd2",
            "value": 4555
          }
        },
        "842ada22e9c547b2975158cdd1fb6b21": {
          "model_module": "@jupyter-widgets/controls",
          "model_name": "HTMLModel",
          "model_module_version": "1.5.0",
          "state": {
            "_dom_classes": [],
            "_model_module": "@jupyter-widgets/controls",
            "_model_module_version": "1.5.0",
            "_model_name": "HTMLModel",
            "_view_count": null,
            "_view_module": "@jupyter-widgets/controls",
            "_view_module_version": "1.5.0",
            "_view_name": "HTMLView",
            "description": "",
            "description_tooltip": null,
            "layout": "IPY_MODEL_4d4c7a32a30e49eaba518480a102ae16",
            "placeholder": "​",
            "style": "IPY_MODEL_3838b2ff66be4e5f9fe3770da37e8ea8",
            "value": " 4555/4555 [00:02&lt;00:00, 2720.81it/s]"
          }
        },
        "5652a47ca98e4460afa113e6d19d0feb": {
          "model_module": "@jupyter-widgets/base",
          "model_name": "LayoutModel",
          "model_module_version": "1.2.0",
          "state": {
            "_model_module": "@jupyter-widgets/base",
            "_model_module_version": "1.2.0",
            "_model_name": "LayoutModel",
            "_view_count": null,
            "_view_module": "@jupyter-widgets/base",
            "_view_module_version": "1.2.0",
            "_view_name": "LayoutView",
            "align_content": null,
            "align_items": null,
            "align_self": null,
            "border": null,
            "bottom": null,
            "display": null,
            "flex": null,
            "flex_flow": null,
            "grid_area": null,
            "grid_auto_columns": null,
            "grid_auto_flow": null,
            "grid_auto_rows": null,
            "grid_column": null,
            "grid_gap": null,
            "grid_row": null,
            "grid_template_areas": null,
            "grid_template_columns": null,
            "grid_template_rows": null,
            "height": null,
            "justify_content": null,
            "justify_items": null,
            "left": null,
            "margin": null,
            "max_height": null,
            "max_width": null,
            "min_height": null,
            "min_width": null,
            "object_fit": null,
            "object_position": null,
            "order": null,
            "overflow": null,
            "overflow_x": null,
            "overflow_y": null,
            "padding": null,
            "right": null,
            "top": null,
            "visibility": null,
            "width": null
          }
        },
        "92dfd18c9f9b4cfaa0299584c844281f": {
          "model_module": "@jupyter-widgets/base",
          "model_name": "LayoutModel",
          "model_module_version": "1.2.0",
          "state": {
            "_model_module": "@jupyter-widgets/base",
            "_model_module_version": "1.2.0",
            "_model_name": "LayoutModel",
            "_view_count": null,
            "_view_module": "@jupyter-widgets/base",
            "_view_module_version": "1.2.0",
            "_view_name": "LayoutView",
            "align_content": null,
            "align_items": null,
            "align_self": null,
            "border": null,
            "bottom": null,
            "display": null,
            "flex": null,
            "flex_flow": null,
            "grid_area": null,
            "grid_auto_columns": null,
            "grid_auto_flow": null,
            "grid_auto_rows": null,
            "grid_column": null,
            "grid_gap": null,
            "grid_row": null,
            "grid_template_areas": null,
            "grid_template_columns": null,
            "grid_template_rows": null,
            "height": null,
            "justify_content": null,
            "justify_items": null,
            "left": null,
            "margin": null,
            "max_height": null,
            "max_width": null,
            "min_height": null,
            "min_width": null,
            "object_fit": null,
            "object_position": null,
            "order": null,
            "overflow": null,
            "overflow_x": null,
            "overflow_y": null,
            "padding": null,
            "right": null,
            "top": null,
            "visibility": null,
            "width": null
          }
        },
        "bdced504a9b245f68b7581ed3c9965b5": {
          "model_module": "@jupyter-widgets/controls",
          "model_name": "DescriptionStyleModel",
          "model_module_version": "1.5.0",
          "state": {
            "_model_module": "@jupyter-widgets/controls",
            "_model_module_version": "1.5.0",
            "_model_name": "DescriptionStyleModel",
            "_view_count": null,
            "_view_module": "@jupyter-widgets/base",
            "_view_module_version": "1.2.0",
            "_view_name": "StyleView",
            "description_width": ""
          }
        },
        "59d967661fc54321b364ff135c80ce6c": {
          "model_module": "@jupyter-widgets/base",
          "model_name": "LayoutModel",
          "model_module_version": "1.2.0",
          "state": {
            "_model_module": "@jupyter-widgets/base",
            "_model_module_version": "1.2.0",
            "_model_name": "LayoutModel",
            "_view_count": null,
            "_view_module": "@jupyter-widgets/base",
            "_view_module_version": "1.2.0",
            "_view_name": "LayoutView",
            "align_content": null,
            "align_items": null,
            "align_self": null,
            "border": null,
            "bottom": null,
            "display": null,
            "flex": null,
            "flex_flow": null,
            "grid_area": null,
            "grid_auto_columns": null,
            "grid_auto_flow": null,
            "grid_auto_rows": null,
            "grid_column": null,
            "grid_gap": null,
            "grid_row": null,
            "grid_template_areas": null,
            "grid_template_columns": null,
            "grid_template_rows": null,
            "height": null,
            "justify_content": null,
            "justify_items": null,
            "left": null,
            "margin": null,
            "max_height": null,
            "max_width": null,
            "min_height": null,
            "min_width": null,
            "object_fit": null,
            "object_position": null,
            "order": null,
            "overflow": null,
            "overflow_x": null,
            "overflow_y": null,
            "padding": null,
            "right": null,
            "top": null,
            "visibility": null,
            "width": null
          }
        },
        "0a7642ecd7984e1fbe290008de2c8cd2": {
          "model_module": "@jupyter-widgets/controls",
          "model_name": "ProgressStyleModel",
          "model_module_version": "1.5.0",
          "state": {
            "_model_module": "@jupyter-widgets/controls",
            "_model_module_version": "1.5.0",
            "_model_name": "ProgressStyleModel",
            "_view_count": null,
            "_view_module": "@jupyter-widgets/base",
            "_view_module_version": "1.2.0",
            "_view_name": "StyleView",
            "bar_color": null,
            "description_width": ""
          }
        },
        "4d4c7a32a30e49eaba518480a102ae16": {
          "model_module": "@jupyter-widgets/base",
          "model_name": "LayoutModel",
          "model_module_version": "1.2.0",
          "state": {
            "_model_module": "@jupyter-widgets/base",
            "_model_module_version": "1.2.0",
            "_model_name": "LayoutModel",
            "_view_count": null,
            "_view_module": "@jupyter-widgets/base",
            "_view_module_version": "1.2.0",
            "_view_name": "LayoutView",
            "align_content": null,
            "align_items": null,
            "align_self": null,
            "border": null,
            "bottom": null,
            "display": null,
            "flex": null,
            "flex_flow": null,
            "grid_area": null,
            "grid_auto_columns": null,
            "grid_auto_flow": null,
            "grid_auto_rows": null,
            "grid_column": null,
            "grid_gap": null,
            "grid_row": null,
            "grid_template_areas": null,
            "grid_template_columns": null,
            "grid_template_rows": null,
            "height": null,
            "justify_content": null,
            "justify_items": null,
            "left": null,
            "margin": null,
            "max_height": null,
            "max_width": null,
            "min_height": null,
            "min_width": null,
            "object_fit": null,
            "object_position": null,
            "order": null,
            "overflow": null,
            "overflow_x": null,
            "overflow_y": null,
            "padding": null,
            "right": null,
            "top": null,
            "visibility": null,
            "width": null
          }
        },
        "3838b2ff66be4e5f9fe3770da37e8ea8": {
          "model_module": "@jupyter-widgets/controls",
          "model_name": "DescriptionStyleModel",
          "model_module_version": "1.5.0",
          "state": {
            "_model_module": "@jupyter-widgets/controls",
            "_model_module_version": "1.5.0",
            "_model_name": "DescriptionStyleModel",
            "_view_count": null,
            "_view_module": "@jupyter-widgets/base",
            "_view_module_version": "1.2.0",
            "_view_name": "StyleView",
            "description_width": ""
          }
        },
        "922102fefad54fea99e8fb2cb777c088": {
          "model_module": "@jupyter-widgets/controls",
          "model_name": "HBoxModel",
          "model_module_version": "1.5.0",
          "state": {
            "_dom_classes": [],
            "_model_module": "@jupyter-widgets/controls",
            "_model_module_version": "1.5.0",
            "_model_name": "HBoxModel",
            "_view_count": null,
            "_view_module": "@jupyter-widgets/controls",
            "_view_module_version": "1.5.0",
            "_view_name": "HBoxView",
            "box_style": "",
            "children": [
              "IPY_MODEL_ee9ac16f270349d5a0239d7fe77db6cb",
              "IPY_MODEL_a6de567320424db8b39872d8fc1bc35c",
              "IPY_MODEL_ff0f12f4d13841b49352513bbacddbc1"
            ],
            "layout": "IPY_MODEL_7f0e075a0fd04197a542e47884aeee4e"
          }
        },
        "ee9ac16f270349d5a0239d7fe77db6cb": {
          "model_module": "@jupyter-widgets/controls",
          "model_name": "HTMLModel",
          "model_module_version": "1.5.0",
          "state": {
            "_dom_classes": [],
            "_model_module": "@jupyter-widgets/controls",
            "_model_module_version": "1.5.0",
            "_model_name": "HTMLModel",
            "_view_count": null,
            "_view_module": "@jupyter-widgets/controls",
            "_view_module_version": "1.5.0",
            "_view_name": "HTMLView",
            "description": "",
            "description_tooltip": null,
            "layout": "IPY_MODEL_4e309de30e2b458f84848249cb26236c",
            "placeholder": "​",
            "style": "IPY_MODEL_858580dadbdc4f17a187bfb4add35952",
            "value": "Retrieving MaterialsDoc documents: 100%"
          }
        },
        "a6de567320424db8b39872d8fc1bc35c": {
          "model_module": "@jupyter-widgets/controls",
          "model_name": "FloatProgressModel",
          "model_module_version": "1.5.0",
          "state": {
            "_dom_classes": [],
            "_model_module": "@jupyter-widgets/controls",
            "_model_module_version": "1.5.0",
            "_model_name": "FloatProgressModel",
            "_view_count": null,
            "_view_module": "@jupyter-widgets/controls",
            "_view_module_version": "1.5.0",
            "_view_name": "ProgressView",
            "bar_style": "success",
            "description": "",
            "description_tooltip": null,
            "layout": "IPY_MODEL_b75b2acdfa0f468fa76a6c43216a173b",
            "max": 1,
            "min": 0,
            "orientation": "horizontal",
            "style": "IPY_MODEL_8e6ef12d86e842a8a239326b8f39cdc7",
            "value": 1
          }
        },
        "ff0f12f4d13841b49352513bbacddbc1": {
          "model_module": "@jupyter-widgets/controls",
          "model_name": "HTMLModel",
          "model_module_version": "1.5.0",
          "state": {
            "_dom_classes": [],
            "_model_module": "@jupyter-widgets/controls",
            "_model_module_version": "1.5.0",
            "_model_name": "HTMLModel",
            "_view_count": null,
            "_view_module": "@jupyter-widgets/controls",
            "_view_module_version": "1.5.0",
            "_view_name": "HTMLView",
            "description": "",
            "description_tooltip": null,
            "layout": "IPY_MODEL_58f550b4bcbf49cdadb28ec30b417ff8",
            "placeholder": "​",
            "style": "IPY_MODEL_ba0897a559214c598c19c521dcbdbc20",
            "value": " 1/1 [00:00&lt;00:00, 20.16it/s]"
          }
        },
        "7f0e075a0fd04197a542e47884aeee4e": {
          "model_module": "@jupyter-widgets/base",
          "model_name": "LayoutModel",
          "model_module_version": "1.2.0",
          "state": {
            "_model_module": "@jupyter-widgets/base",
            "_model_module_version": "1.2.0",
            "_model_name": "LayoutModel",
            "_view_count": null,
            "_view_module": "@jupyter-widgets/base",
            "_view_module_version": "1.2.0",
            "_view_name": "LayoutView",
            "align_content": null,
            "align_items": null,
            "align_self": null,
            "border": null,
            "bottom": null,
            "display": null,
            "flex": null,
            "flex_flow": null,
            "grid_area": null,
            "grid_auto_columns": null,
            "grid_auto_flow": null,
            "grid_auto_rows": null,
            "grid_column": null,
            "grid_gap": null,
            "grid_row": null,
            "grid_template_areas": null,
            "grid_template_columns": null,
            "grid_template_rows": null,
            "height": null,
            "justify_content": null,
            "justify_items": null,
            "left": null,
            "margin": null,
            "max_height": null,
            "max_width": null,
            "min_height": null,
            "min_width": null,
            "object_fit": null,
            "object_position": null,
            "order": null,
            "overflow": null,
            "overflow_x": null,
            "overflow_y": null,
            "padding": null,
            "right": null,
            "top": null,
            "visibility": null,
            "width": null
          }
        },
        "4e309de30e2b458f84848249cb26236c": {
          "model_module": "@jupyter-widgets/base",
          "model_name": "LayoutModel",
          "model_module_version": "1.2.0",
          "state": {
            "_model_module": "@jupyter-widgets/base",
            "_model_module_version": "1.2.0",
            "_model_name": "LayoutModel",
            "_view_count": null,
            "_view_module": "@jupyter-widgets/base",
            "_view_module_version": "1.2.0",
            "_view_name": "LayoutView",
            "align_content": null,
            "align_items": null,
            "align_self": null,
            "border": null,
            "bottom": null,
            "display": null,
            "flex": null,
            "flex_flow": null,
            "grid_area": null,
            "grid_auto_columns": null,
            "grid_auto_flow": null,
            "grid_auto_rows": null,
            "grid_column": null,
            "grid_gap": null,
            "grid_row": null,
            "grid_template_areas": null,
            "grid_template_columns": null,
            "grid_template_rows": null,
            "height": null,
            "justify_content": null,
            "justify_items": null,
            "left": null,
            "margin": null,
            "max_height": null,
            "max_width": null,
            "min_height": null,
            "min_width": null,
            "object_fit": null,
            "object_position": null,
            "order": null,
            "overflow": null,
            "overflow_x": null,
            "overflow_y": null,
            "padding": null,
            "right": null,
            "top": null,
            "visibility": null,
            "width": null
          }
        },
        "858580dadbdc4f17a187bfb4add35952": {
          "model_module": "@jupyter-widgets/controls",
          "model_name": "DescriptionStyleModel",
          "model_module_version": "1.5.0",
          "state": {
            "_model_module": "@jupyter-widgets/controls",
            "_model_module_version": "1.5.0",
            "_model_name": "DescriptionStyleModel",
            "_view_count": null,
            "_view_module": "@jupyter-widgets/base",
            "_view_module_version": "1.2.0",
            "_view_name": "StyleView",
            "description_width": ""
          }
        },
        "b75b2acdfa0f468fa76a6c43216a173b": {
          "model_module": "@jupyter-widgets/base",
          "model_name": "LayoutModel",
          "model_module_version": "1.2.0",
          "state": {
            "_model_module": "@jupyter-widgets/base",
            "_model_module_version": "1.2.0",
            "_model_name": "LayoutModel",
            "_view_count": null,
            "_view_module": "@jupyter-widgets/base",
            "_view_module_version": "1.2.0",
            "_view_name": "LayoutView",
            "align_content": null,
            "align_items": null,
            "align_self": null,
            "border": null,
            "bottom": null,
            "display": null,
            "flex": null,
            "flex_flow": null,
            "grid_area": null,
            "grid_auto_columns": null,
            "grid_auto_flow": null,
            "grid_auto_rows": null,
            "grid_column": null,
            "grid_gap": null,
            "grid_row": null,
            "grid_template_areas": null,
            "grid_template_columns": null,
            "grid_template_rows": null,
            "height": null,
            "justify_content": null,
            "justify_items": null,
            "left": null,
            "margin": null,
            "max_height": null,
            "max_width": null,
            "min_height": null,
            "min_width": null,
            "object_fit": null,
            "object_position": null,
            "order": null,
            "overflow": null,
            "overflow_x": null,
            "overflow_y": null,
            "padding": null,
            "right": null,
            "top": null,
            "visibility": null,
            "width": null
          }
        },
        "8e6ef12d86e842a8a239326b8f39cdc7": {
          "model_module": "@jupyter-widgets/controls",
          "model_name": "ProgressStyleModel",
          "model_module_version": "1.5.0",
          "state": {
            "_model_module": "@jupyter-widgets/controls",
            "_model_module_version": "1.5.0",
            "_model_name": "ProgressStyleModel",
            "_view_count": null,
            "_view_module": "@jupyter-widgets/base",
            "_view_module_version": "1.2.0",
            "_view_name": "StyleView",
            "bar_color": null,
            "description_width": ""
          }
        },
        "58f550b4bcbf49cdadb28ec30b417ff8": {
          "model_module": "@jupyter-widgets/base",
          "model_name": "LayoutModel",
          "model_module_version": "1.2.0",
          "state": {
            "_model_module": "@jupyter-widgets/base",
            "_model_module_version": "1.2.0",
            "_model_name": "LayoutModel",
            "_view_count": null,
            "_view_module": "@jupyter-widgets/base",
            "_view_module_version": "1.2.0",
            "_view_name": "LayoutView",
            "align_content": null,
            "align_items": null,
            "align_self": null,
            "border": null,
            "bottom": null,
            "display": null,
            "flex": null,
            "flex_flow": null,
            "grid_area": null,
            "grid_auto_columns": null,
            "grid_auto_flow": null,
            "grid_auto_rows": null,
            "grid_column": null,
            "grid_gap": null,
            "grid_row": null,
            "grid_template_areas": null,
            "grid_template_columns": null,
            "grid_template_rows": null,
            "height": null,
            "justify_content": null,
            "justify_items": null,
            "left": null,
            "margin": null,
            "max_height": null,
            "max_width": null,
            "min_height": null,
            "min_width": null,
            "object_fit": null,
            "object_position": null,
            "order": null,
            "overflow": null,
            "overflow_x": null,
            "overflow_y": null,
            "padding": null,
            "right": null,
            "top": null,
            "visibility": null,
            "width": null
          }
        },
        "ba0897a559214c598c19c521dcbdbc20": {
          "model_module": "@jupyter-widgets/controls",
          "model_name": "DescriptionStyleModel",
          "model_module_version": "1.5.0",
          "state": {
            "_model_module": "@jupyter-widgets/controls",
            "_model_module_version": "1.5.0",
            "_model_name": "DescriptionStyleModel",
            "_view_count": null,
            "_view_module": "@jupyter-widgets/base",
            "_view_module_version": "1.2.0",
            "_view_name": "StyleView",
            "description_width": ""
          }
        }
      }
    },
    "accelerator": "GPU"
  },
  "cells": [
    {
      "cell_type": "markdown",
      "metadata": {
        "id": "view-in-github",
        "colab_type": "text"
      },
      "source": [
        "<a href=\"https://colab.research.google.com/github/Deepayanbasu07/ML-for-Band-Gap-Prediction/blob/main/Crystal_Features__Atomic_Features.ipynb\" target=\"_parent\"><img src=\"https://colab.research.google.com/assets/colab-badge.svg\" alt=\"Open In Colab\"/></a>"
      ]
    },
    {
      "cell_type": "markdown",
      "source": [
        "#Machine Learning for Materials Science :\n"
      ],
      "metadata": {
        "id": "iwNUM4tx3FOs"
      }
    },
    {
      "cell_type": "markdown",
      "source": [
        "###Using Crystal Features to predict the Band Gap\n"
      ],
      "metadata": {
        "id": "Gn4RjlCXyfXj"
      }
    },
    {
      "cell_type": "markdown",
      "source": [
        "\n",
        "\n",
        "Example problems that machine learning solve:\n",
        "\n",
        "1. Is a given material metallic or semiconducting? An example paper: https://doi.org/10.1038/ncomms15679.\n",
        "2. What is the specific heat capacity of a material? An example paper: https://doi.org/10.1002/adts.201900208."
      ],
      "metadata": {
        "id": "P-_jbu2KyaQL"
      }
    },
    {
      "cell_type": "markdown",
      "source": [
        "### The Materials Project Database:\n"
      ],
      "metadata": {
        "id": "hRtKN6lhyQP8"
      }
    },
    {
      "cell_type": "markdown",
      "source": [
        "The Materials Project is a multi-institution, multi-national effort to compute the properties of all inorganic materials and provide the data and associated analysis algorithms for every materials researcher free of charge. The ultimate goal of the initiative is to drastically reduce the time needed to invent new materials by focusing costly and time-consuming experiments on compounds that show the most promise computationally.\n"
      ],
      "metadata": {
        "id": "lx4xrU9V9ayP"
      }
    },
    {
      "cell_type": "markdown",
      "source": [
        "### Machine Learning Workflow"
      ],
      "metadata": {
        "id": "t4QG-Slcx4l_"
      }
    },
    {
      "cell_type": "markdown",
      "source": [
        "We can think of machine learning as a 3-step process:\n",
        "\n",
        "1. First, find numerical/categoricall descriptors that can describe your material. That is: every material in your dataset should be uniquely represented by an array of numbers/categories.\n",
        "2. Then, apply your procedure to your entire dataset of structures to form a sheet of material descriptors vs. target properties.\n",
        "3. Use machine learning to predict the target properties based on the descriptors."
      ],
      "metadata": {
        "id": "cSxerTdtx7_9"
      }
    },
    {
      "cell_type": "markdown",
      "source": [
        "#### Diagram"
      ],
      "metadata": {
        "id": "VDW3DSxlzHv0"
      }
    },
    {
      "cell_type": "code",
      "source": [
        "img = '/content/fig_Workflow.png'\n",
        "from IPython.display import Image\n",
        "Image(img, height =500)"
      ],
      "metadata": {
        "colab": {
          "base_uri": "https://localhost:8080/",
          "height": 517
        },
        "id": "TdbZovvPzMTD",
        "outputId": "50e78307-7074-4ca8-8a8e-a6f121e19f0c"
      },
      "execution_count": null,
      "outputs": [
        {
          "output_type": "execute_result",
          "data": {
            "image/png": "[encoded data removed]",
            "text/plain": [
              "<IPython.core.display.Image object>"
            ]
          },
          "metadata": {
            "image/png": {
              "height": 500
            }
          },
          "execution_count": 1
        }
      ]
    },
    {
      "cell_type": "markdown",
      "source": [
        "### A look at MaterialsProject"
      ],
      "metadata": {
        "id": "H6UAgv050dSj"
      }
    },
    {
      "cell_type": "markdown",
      "source": [
        "1. Each material on MP is identified by an ID that goes like mp-X where X is a number. The ID of diamond is mp-66. People use these identifiers when referring to MP materials in papers, and we will use them soon when we start querying materials from MP using python.\n",
        "\n",
        "2. There you will find the crystal structure, the lattice parameters, the basic properties (in a column to the right of the figure that displays the crystal), and then a range of DFT-calculated properties."
      ],
      "metadata": {
        "id": "OgmeDfGa0hOE"
      }
    },
    {
      "cell_type": "markdown",
      "source": [
        "### The DFT properties\n",
        "These are quantities that are calculated for each crystal in MP. In fact, every thing you see on the MP page for diamond was calculated using DFT.\n",
        "\n",
        "1. For a given elemental composition, the lattice parameters and the positions of the atoms within the lattice are all obtained using DFT.\n",
        "2. For the obtained crystal structure, the Final Magnetic Moment, Formation Energy / Atom, Energy Above Hull / Atom, Band Gap are calculated. The Density is derived from the obtained crystal structure.\n",
        "3. Further DFT calculations are performed to obtain the band structure as well as other properties that you can find as you scroll down the structure page on MP.\n",
        "4. Some of the crystals on MP correspond to crystals that exist in nature, and some are purely hypothetical. The hypothetical crystals have been generated by some algorithm that uses artificial intelligence, or probably by simple elemental substitution."
      ],
      "metadata": {
        "id": "_L1F_Qyo0tGt"
      }
    },
    {
      "cell_type": "markdown",
      "source": [
        "### The PyMatGen python library"
      ],
      "metadata": {
        "id": "r60xWmhd1AfK"
      }
    },
    {
      "cell_type": "markdown",
      "source": [
        "To be able to query the MP database, the MP team provided the community with a python library. The first thing we do here is to install PyMatGen in Colab."
      ],
      "metadata": {
        "id": "ca5d7d-m1CQq"
      }
    },
    {
      "cell_type": "markdown",
      "source": [
        "PyMatGen is downloaded in the Google Colab Environment."
      ],
      "metadata": {
        "id": "bTX3u65lBknr"
      }
    },
    {
      "cell_type": "code",
      "source": [
        "pip install pymatgen"
      ],
      "metadata": {
        "id": "ucEXYN7S9lun"
      },
      "execution_count": null,
      "outputs": []
    },
    {
      "cell_type": "code",
      "source": [
        "pip install mp-api"
      ],
      "metadata": {
        "id": "u_Vp-vZAEht4"
      },
      "execution_count": null,
      "outputs": []
    },
    {
      "cell_type": "code",
      "source": [
        "with open('apikey.txt', 'r') as file:\n",
        "    apikey = file.read().strip()"
      ],
      "metadata": {
        "id": "zWCTJ9G6vgOn"
      },
      "execution_count": null,
      "outputs": []
    },
    {
      "cell_type": "code",
      "source": [
        "from mp_api.client import MPRester\n",
        "with MPRester(api_key= apikey) as mpr:\n",
        "    data = mpr.materials.search(material_ids=[\"mp-696128\"])"
      ],
      "metadata": {
        "colab": {
          "base_uri": "https://localhost:8080/",
          "height": 142,
          "referenced_widgets": [
            "ee74a2a370834e1b948b7f0192ab5977",
            "cba36a90635d40ab8b5f1b3b2355acce",
            "d6fd5579430d47978e2cfa120a747b3e",
            "72cd6dacaef6444ea93b1d2d45040514",
            "7d54ce765f2d477281747f88a5b6b0d8",
            "89d15cbb277d4bffa269eba5dfe2cb7e",
            "cfef4af80cc6465aa93f0dee47b2f0c7",
            "2bad48c08cf04322abe0a37fc0665554",
            "ccc85880ba324dc1bf29dbd9cdd487f3",
            "b3eb147e1ed644018125b089e1c09a1a",
            "0b62ce2c39f94909abe160485be6f5ce"
          ]
        },
        "id": "nfQTYyAMEdNi",
        "outputId": "29e22158-ef4f-47d4-924c-d9c1b3cc4c86"
      },
      "execution_count": null,
      "outputs": [
        {
          "output_type": "stream",
          "name": "stderr",
          "text": [
            "/usr/local/lib/python3.10/dist-packages/paramiko/pkey.py:100: CryptographyDeprecationWarning: TripleDES has been moved to cryptography.hazmat.decrepit.ciphers.algorithms.TripleDES and will be removed from this module in 48.0.0.\n",
            "  \"cipher\": algorithms.TripleDES,\n",
            "/usr/local/lib/python3.10/dist-packages/paramiko/transport.py:259: CryptographyDeprecationWarning: TripleDES has been moved to cryptography.hazmat.decrepit.ciphers.algorithms.TripleDES and will be removed from this module in 48.0.0.\n",
            "  \"class\": algorithms.TripleDES,\n"
          ]
        },
        {
          "output_type": "display_data",
          "data": {
            "text/plain": [
              "Retrieving MaterialsDoc documents:   0%|          | 0/1 [00:00<?, ?it/s]"
            ],
            "application/vnd.jupyter.widget-view+json": {
              "version_major": 2,
              "version_minor": 0,
              "model_id": "ee74a2a370834e1b948b7f0192ab5977"
            }
          },
          "metadata": {}
        }
      ]
    },
    {
      "cell_type": "code",
      "source": [
        "structure = data[0].structure\n",
        "print(structure)"
      ],
      "metadata": {
        "colab": {
          "base_uri": "https://localhost:8080/"
        },
        "id": "DPGj1vHBGAdH",
        "outputId": "b4a4f429-e060-45a3-c4c6-42740bb63230"
      },
      "execution_count": null,
      "outputs": [
        {
          "output_type": "stream",
          "name": "stdout",
          "text": [
            "Full Formula (Li20 Ge2 P4 S24)\n",
            "Reduced Formula: Li10Ge(PS6)2\n",
            "abc   :   8.787646   8.787646  12.657546\n",
            "angles:  90.000000  90.000000  90.000000\n",
            "pbc   :       True       True       True\n",
            "Sites (50)\n",
            "  #  SP           a         b         c    magmom\n",
            "---  ----  --------  --------  --------  --------\n",
            "  0  Li    0.228698  0.27295   0.294563        -0\n",
            "  1  Li    0.771302  0.72705   0.294563        -0\n",
            "  2  Li    0.27295   0.771302  0.794563        -0\n",
            "  3  Li    0.72705   0.228698  0.794563        -0\n",
            "  4  Li    0.228698  0.72705   0.294563        -0\n",
            "  5  Li    0.771302  0.27295   0.294563        -0\n",
            "  6  Li    0.27295   0.228698  0.794563        -0\n",
            "  7  Li    0.72705   0.771302  0.794563        -0\n",
            "  8  Li    0         0         0.93973         -0\n",
            "  9  Li    0         0         0.43973         -0\n",
            " 10  Li    0.5       0.5       0.54802         -0\n",
            " 11  Li    0.5       0.5       0.04802         -0\n",
            " 12  Li    0.256318  0.724772  0.036663        -0\n",
            " 13  Li    0.743682  0.275228  0.036663        -0\n",
            " 14  Li    0.275228  0.256318  0.536663        -0\n",
            " 15  Li    0.724772  0.743682  0.536663        -0\n",
            " 16  Li    0.275228  0.743682  0.536663        -0\n",
            " 17  Li    0.724772  0.256318  0.536663        -0\n",
            " 18  Li    0.256318  0.275228  0.036663        -0\n",
            " 19  Li    0.743682  0.724772  0.036663        -0\n",
            " 20  Ge    0.5       0.5       0.801028        -0\n",
            " 21  Ge    0.5       0.5       0.301028        -0\n",
            " 22  P     0         0         0.686051         0\n",
            " 23  P     0         0         0.186051         0\n",
            " 24  P     0         0.5       0.504073        -0\n",
            " 25  P     0.5       0         0.004073        -0\n",
            " 26  S     0         0.694431  0.412071         0\n",
            " 27  S     0         0.305569  0.412071         0\n",
            " 28  S     0.305569  0         0.912071         0\n",
            " 29  S     0.694431  0         0.912071         0\n",
            " 30  S     0.5       0.189848  0.097057         0\n",
            " 31  S     0.5       0.810152  0.097057         0\n",
            " 32  S     0.189848  0.5       0.597057         0\n",
            " 33  S     0.810152  0.5       0.597057         0\n",
            " 34  S     0         0.804708  0.094096         0\n",
            " 35  S     0         0.195292  0.094096         0\n",
            " 36  S     0.195292  0         0.594096         0\n",
            " 37  S     0.804708  0         0.594096         0\n",
            " 38  S     0.5       0.290002  0.403242         0\n",
            " 39  S     0.5       0.709998  0.403242         0\n",
            " 40  S     0.290002  0.5       0.903242         0\n",
            " 41  S     0.709998  0.5       0.903242         0\n",
            " 42  S     0         0.19195   0.777069         0\n",
            " 43  S     0         0.80805   0.777069         0\n",
            " 44  S     0.80805   0         0.277069         0\n",
            " 45  S     0.19195   0         0.277069         0\n",
            " 46  S     0.5       0.707378  0.698166         0\n",
            " 47  S     0.5       0.292622  0.698166         0\n",
            " 48  S     0.707378  0.5       0.198166         0\n",
            " 49  S     0.292622  0.5       0.198166         0\n"
          ]
        }
      ]
    },
    {
      "cell_type": "markdown",
      "source": [
        "So now we have the details of CIF structure in a human readable format which includes the formula, the lattice parameters and the positions of the atoms in the crystals."
      ],
      "metadata": {
        "id": "_Xlxux_5JJqo"
      }
    },
    {
      "cell_type": "markdown",
      "source": [
        "### Lets see some structure details"
      ],
      "metadata": {
        "id": "kFHiT1KVKA_C"
      }
    },
    {
      "cell_type": "code",
      "source": [
        "structure.lattice"
      ],
      "metadata": {
        "colab": {
          "base_uri": "https://localhost:8080/"
        },
        "id": "yiDRpaJiGVoC",
        "outputId": "6380e382-3d56-4c52-d91d-d2446de8bef9"
      },
      "execution_count": null,
      "outputs": [
        {
          "output_type": "execute_result",
          "data": {
            "text/plain": [
              "Lattice\n",
              "    abc : 8.787646 8.787646 12.657546\n",
              " angles : 90.0 90.0 90.0\n",
              " volume : 977.4501587615295\n",
              "      A : 8.787646 0.0 0.0\n",
              "      B : 0.0 8.787646 0.0\n",
              "      C : 0.0 0.0 12.657546\n",
              "    pbc : True True True"
            ]
          },
          "metadata": {},
          "execution_count": 7
        }
      ]
    },
    {
      "cell_type": "code",
      "source": [
        "structure.density"
      ],
      "metadata": {
        "colab": {
          "base_uri": "https://localhost:8080/"
        },
        "id": "svCkBHcTJ88V",
        "outputId": "bdda978c-0471-480b-efa8-110735a11d23"
      },
      "execution_count": null,
      "outputs": [
        {
          "output_type": "execute_result",
          "data": {
            "text/plain": [
              "2.000486820477457"
            ]
          },
          "metadata": {},
          "execution_count": 8
        }
      ]
    },
    {
      "cell_type": "code",
      "source": [
        "structure.species"
      ],
      "metadata": {
        "colab": {
          "base_uri": "https://localhost:8080/"
        },
        "id": "r4pqDj9GKGuy",
        "outputId": "bc62bd95-d450-4a22-eeb4-40512ae4b353"
      },
      "execution_count": null,
      "outputs": [
        {
          "output_type": "execute_result",
          "data": {
            "text/plain": [
              "[Element Li,\n",
              " Element Li,\n",
              " Element Li,\n",
              " Element Li,\n",
              " Element Li,\n",
              " Element Li,\n",
              " Element Li,\n",
              " Element Li,\n",
              " Element Li,\n",
              " Element Li,\n",
              " Element Li,\n",
              " Element Li,\n",
              " Element Li,\n",
              " Element Li,\n",
              " Element Li,\n",
              " Element Li,\n",
              " Element Li,\n",
              " Element Li,\n",
              " Element Li,\n",
              " Element Li,\n",
              " Element Ge,\n",
              " Element Ge,\n",
              " Element P,\n",
              " Element P,\n",
              " Element P,\n",
              " Element P,\n",
              " Element S,\n",
              " Element S,\n",
              " Element S,\n",
              " Element S,\n",
              " Element S,\n",
              " Element S,\n",
              " Element S,\n",
              " Element S,\n",
              " Element S,\n",
              " Element S,\n",
              " Element S,\n",
              " Element S,\n",
              " Element S,\n",
              " Element S,\n",
              " Element S,\n",
              " Element S,\n",
              " Element S,\n",
              " Element S,\n",
              " Element S,\n",
              " Element S,\n",
              " Element S,\n",
              " Element S,\n",
              " Element S,\n",
              " Element S]"
            ]
          },
          "metadata": {},
          "execution_count": 9
        }
      ]
    },
    {
      "cell_type": "code",
      "source": [
        "structure.charge"
      ],
      "metadata": {
        "colab": {
          "base_uri": "https://localhost:8080/"
        },
        "id": "7_2LMdtrKLID",
        "outputId": "b5a39f21-da66-41cd-f6d8-d6f36d152a6a"
      },
      "execution_count": null,
      "outputs": [
        {
          "output_type": "execute_result",
          "data": {
            "text/plain": [
              "0"
            ]
          },
          "metadata": {},
          "execution_count": 10
        }
      ]
    },
    {
      "cell_type": "code",
      "source": [
        "structure.cart_coords"
      ],
      "metadata": {
        "colab": {
          "base_uri": "https://localhost:8080/"
        },
        "id": "-l1_noAvKrbq",
        "outputId": "a2a92235-eaf5-4c26-d57d-e540bd7281d9"
      },
      "execution_count": null,
      "outputs": [
        {
          "output_type": "execute_result",
          "data": {
            "text/plain": [
              "array([[ 2.00971706,  2.39858798,  3.72844472],\n",
              "       [ 6.77792894,  6.38905802,  3.72844472],\n",
              "       [ 2.39858798,  6.77792894, 10.05721772],\n",
              "       [ 6.38905802,  2.00971706, 10.05721772],\n",
              "       [ 2.00971706,  6.38905802,  3.72844472],\n",
              "       [ 6.77792894,  2.39858798,  3.72844472],\n",
              "       [ 2.39858798,  2.00971706, 10.05721772],\n",
              "       [ 6.38905802,  6.77792894, 10.05721772],\n",
              "       [ 0.        ,  0.        , 11.8946757 ],\n",
              "       [ 0.        ,  0.        ,  5.5659027 ],\n",
              "       [ 4.393823  ,  4.393823  ,  6.93658836],\n",
              "       [ 4.393823  ,  4.393823  ,  0.60781536],\n",
              "       [ 2.25243185,  6.36903977,  0.46406361],\n",
              "       [ 6.53521415,  2.41860623,  0.46406361],\n",
              "       [ 2.41860623,  2.25243185,  6.79283661],\n",
              "       [ 6.36903977,  6.53521415,  6.79283661],\n",
              "       [ 2.41860623,  6.53521415,  6.79283661],\n",
              "       [ 6.36903977,  2.25243185,  6.79283661],\n",
              "       [ 2.25243185,  2.41860623,  0.46406361],\n",
              "       [ 6.53521415,  6.36903977,  0.46406361],\n",
              "       [ 4.393823  ,  4.393823  , 10.13904876],\n",
              "       [ 4.393823  ,  4.393823  ,  3.81027576],\n",
              "       [ 0.        ,  0.        ,  8.68372209],\n",
              "       [ 0.        ,  0.        ,  2.35494909],\n",
              "       [ 0.        ,  4.393823  ,  6.38032718],\n",
              "       [ 4.393823  ,  0.        ,  0.05155418],\n",
              "       [ 0.        ,  6.1024138 ,  5.21580764],\n",
              "       [ 0.        ,  2.6852322 ,  5.21580764],\n",
              "       [ 2.6852322 ,  0.        , 11.54458064],\n",
              "       [ 6.1024138 ,  0.        , 11.54458064],\n",
              "       [ 4.393823  ,  1.66831702,  1.22850344],\n",
              "       [ 4.393823  ,  7.11932898,  1.22850344],\n",
              "       [ 1.66831702,  4.393823  ,  7.55727644],\n",
              "       [ 7.11932898,  4.393823  ,  7.55727644],\n",
              "       [ 0.        ,  7.07148904,  1.19102445],\n",
              "       [ 0.        ,  1.71615696,  1.19102445],\n",
              "       [ 1.71615696,  0.        ,  7.51979745],\n",
              "       [ 7.07148904,  0.        ,  7.51979745],\n",
              "       [ 4.393823  ,  2.54843492,  5.10405416],\n",
              "       [ 4.393823  ,  6.23921108,  5.10405416],\n",
              "       [ 2.54843492,  4.393823  , 11.43282716],\n",
              "       [ 6.23921108,  4.393823  , 11.43282716],\n",
              "       [ 0.        ,  1.68678865,  9.83578661],\n",
              "       [ 0.        ,  7.10085735,  9.83578661],\n",
              "       [ 7.10085735,  0.        ,  3.50701361],\n",
              "       [ 1.68678865,  0.        ,  3.50701361],\n",
              "       [ 4.393823  ,  6.21618745,  8.83706826],\n",
              "       [ 4.393823  ,  2.57145855,  8.83706826],\n",
              "       [ 6.21618745,  4.393823  ,  2.50829526],\n",
              "       [ 2.57145855,  4.393823  ,  2.50829526]])"
            ]
          },
          "metadata": {},
          "execution_count": 11
        }
      ]
    },
    {
      "cell_type": "code",
      "source": [
        "structure.atomic_numbers"
      ],
      "metadata": {
        "colab": {
          "base_uri": "https://localhost:8080/"
        },
        "id": "ERFk0-M_K25y",
        "outputId": "a4d59412-32a0-4518-cfa5-45976e1bdf3c",
        "collapsed": true
      },
      "execution_count": null,
      "outputs": [
        {
          "output_type": "execute_result",
          "data": {
            "text/plain": [
              "(3,\n",
              " 3,\n",
              " 3,\n",
              " 3,\n",
              " 3,\n",
              " 3,\n",
              " 3,\n",
              " 3,\n",
              " 3,\n",
              " 3,\n",
              " 3,\n",
              " 3,\n",
              " 3,\n",
              " 3,\n",
              " 3,\n",
              " 3,\n",
              " 3,\n",
              " 3,\n",
              " 3,\n",
              " 3,\n",
              " 32,\n",
              " 32,\n",
              " 15,\n",
              " 15,\n",
              " 15,\n",
              " 15,\n",
              " 16,\n",
              " 16,\n",
              " 16,\n",
              " 16,\n",
              " 16,\n",
              " 16,\n",
              " 16,\n",
              " 16,\n",
              " 16,\n",
              " 16,\n",
              " 16,\n",
              " 16,\n",
              " 16,\n",
              " 16,\n",
              " 16,\n",
              " 16,\n",
              " 16,\n",
              " 16,\n",
              " 16,\n",
              " 16,\n",
              " 16,\n",
              " 16,\n",
              " 16,\n",
              " 16)"
            ]
          },
          "metadata": {},
          "execution_count": 12
        }
      ]
    },
    {
      "cell_type": "markdown",
      "source": [
        "### Querying structures using PyMatGen\n",
        "Now lets see PyMatGen to query structures from MP. To be able to do that, we first need to use MPRester as mpr."
      ],
      "metadata": {
        "id": "Tuny7o8sLH3E"
      }
    },
    {
      "cell_type": "markdown",
      "source": [
        "Lets make a simple query to get Material Ids for all such materials with band gap larger than 5 and less than 8."
      ],
      "metadata": {
        "id": "prjuz3I5NceZ"
      }
    },
    {
      "cell_type": "code",
      "source": [
        " results = mpr.materials.summary.search(band_gap = (5,8) , fields=[\"material_id\"])"
      ],
      "metadata": {
        "colab": {
          "base_uri": "https://localhost:8080/",
          "height": 49,
          "referenced_widgets": [
            "0368dc4831434b2493ec93365b77048f",
            "3cd827aa70a74c899575e107944d777f",
            "441cd73e627844939c3a1bd5984595df",
            "b677b07c9d5d42839ac061385cf31e8f",
            "e894720d84ab489cb5674bd7f68b4638",
            "a9caed19df07475690f4afaba48be7bd",
            "f2fb85c542d240cdb67872333fa28273",
            "81b9ce1afc1248668ab890217cfaf8d6",
            "23343ef8b5804eebb2ffa25b100cd924",
            "06f4b66cea314090a6122f6afda21f93",
            "bd489eff58fb4800bf67a2d8f4bede0a"
          ]
        },
        "id": "MHWg68_1Lpow",
        "outputId": "67127c54-4fea-45a9-bb11-f81863d25177"
      },
      "execution_count": null,
      "outputs": [
        {
          "output_type": "display_data",
          "data": {
            "text/plain": [
              "Retrieving SummaryDoc documents:   0%|          | 0/3672 [00:00<?, ?it/s]"
            ],
            "application/vnd.jupyter.widget-view+json": {
              "version_major": 2,
              "version_minor": 0,
              "model_id": "0368dc4831434b2493ec93365b77048f"
            }
          },
          "metadata": {}
        }
      ]
    },
    {
      "cell_type": "markdown",
      "source": [
        "Note that this operation takes some time as there are different number of such materials.\n",
        "So now lets take a look at the MP Ids we got. This code shows the total count and the first 5 MP Ids."
      ],
      "metadata": {
        "id": "VLSLL47HNLkj"
      }
    },
    {
      "cell_type": "code",
      "source": [
        "print(len(results))\n"
      ],
      "metadata": {
        "colab": {
          "base_uri": "https://localhost:8080/"
        },
        "id": "bZop02ICL_ls",
        "outputId": "69bb5d9b-e610-4058-be89-53dd44a688d3"
      },
      "execution_count": null,
      "outputs": [
        {
          "output_type": "stream",
          "name": "stdout",
          "text": [
            "3672\n"
          ]
        }
      ]
    },
    {
      "cell_type": "code",
      "source": [
        "results[:5]"
      ],
      "metadata": {
        "id": "cycdVkBbOyOv"
      },
      "execution_count": null,
      "outputs": []
    },
    {
      "cell_type": "code",
      "source": [
        "new_results = []\n",
        "for result in results:\n",
        "  new_results.append( ( \"material_id\", result.material_id) )\n",
        "\n",
        "print(new_results[:5])\n"
      ],
      "metadata": {
        "colab": {
          "base_uri": "https://localhost:8080/"
        },
        "id": "TDpTuypzO7gO",
        "outputId": "f5110309-4950-4e6e-d30d-bccf7d2a4f61"
      },
      "execution_count": null,
      "outputs": [
        {
          "output_type": "stream",
          "name": "stdout",
          "text": [
            "[('material_id', MPID(mp-27971)), ('material_id', MPID(mp-977360)), ('material_id', MPID(mp-985278)), ('material_id', MPID(mp-569787)), ('material_id', MPID(mp-1229076))]\n"
          ]
        }
      ]
    },
    {
      "cell_type": "markdown",
      "source": [
        "### PART 2"
      ],
      "metadata": {
        "id": "fRkP1Tf9c05k"
      }
    },
    {
      "cell_type": "markdown",
      "source": [
        " ### A very important question that lies at the centre of the field of ML-driven material discovery: how do we apply ML to predict crystal properties?"
      ],
      "metadata": {
        "id": "CJ93eegV19nZ"
      }
    },
    {
      "cell_type": "markdown",
      "source": [
        "### Some Background About Molecules and Crystals\n",
        "1. A Crystal is structure that is endowed with periodicity\n",
        "2.  Molecules are fundamentally different from crystals because of the pattern (periodicity)\n",
        "3. A molecule is just that one single molecule, sitting on its own, in isolation, whereas a crystal is really composed of an infinite number of molecules."
      ],
      "metadata": {
        "id": "OCbxkXZw2OAx"
      }
    },
    {
      "cell_type": "markdown",
      "source": [
        "### Common Obvious Question Comes:\n",
        "##### How would the pattern in the crystal make ML for molecules different from ML for crystals?\n",
        "To predict the properties of the molecules one can derive a set of descriptors for the molecules in the data set that are based on the positions of the atoms within the molecule. **One can derive descriptors based on the relative positions, in order to ensure that the descriptors are invariant to transformations: rotation and translation.**\n",
        "\n",
        "The key thing here in the molecular descriptors is that they are based on the atomic positions. **In crystals, we can't really use atomic positions like we did with molecules to obtain descriptors. Why?**\n"
      ],
      "metadata": {
        "id": "phFrhlOl2oW5"
      }
    },
    {
      "cell_type": "markdown",
      "source": [
        "Because there are many different ways we can represent the unit cell of a crystal. Therefore, we cannot use the atomic coordinates to derive descriptors for crystals, otherwise the derived descriptors, such as the eigenvalues of the Coulomb matrix in the case of molecules, will change dramatically for the same crystal. That is, **the descriptor vector is not invariant with respect to translation of the unit cell**.What do we do then?"
      ],
      "metadata": {
        "id": "H3ofFLbr3U5d"
      }
    },
    {
      "cell_type": "markdown",
      "source": [
        "### USE OF DESCRIPTORS\n",
        "We can use some statistics of atomic properties as the descriptor vector. For example\n",
        "1. Average of the atomic numbers of all these elements in the crystal. For e.g., in SiC, the average would be 14(Si)+6(C)/2 = 10\n",
        "2. The average of Ionization potential of the atoms\n",
        "3. The average of Electron Affinity of the atoms\n",
        "4. And more Averages\n",
        "5. Other statistics, such as the standard deviation and the variance. Adding those will triple the number elements in the descriptor vector above.\n"
      ],
      "metadata": {
        "id": "jmj22o-Fc5SC"
      }
    },
    {
      "cell_type": "markdown",
      "source": [
        "### However there is a Problem:\n",
        "A lot of materials exist in various phases. That is, for the same atomic composition, let's say SiC, there are several possible structures. Right now, there are 27 possible structures for SiC on MaterialsProject.org.\n",
        "\n",
        "So, the above descriptors won't work. For example, for the case of SiC, all of the 27 SiC phases in MP will have the same values for the statistical values above.\n",
        "\n",
        "To solve this problem, we have to add descriptors** based on the geometrical arrangement of atoms**. A simple such descriptor is to average the bond lengths (a bond is formed between two atoms)."
      ],
      "metadata": {
        "id": "d7qrM9Kv4eV4"
      }
    },
    {
      "cell_type": "code",
      "source": [
        "import numpy as np\n",
        "structure = data[0].structure\n",
        "#type(structure)\n",
        "mean_atomic_num = np.mean(structure.atomic_numbers)\n",
        "max_atomic_num = np.max(structure.atomic_numbers)\n",
        "min_atomic_num = np.min(structure.atomic_numbers)\n",
        "std_atomic_num = np.std(structure.atomic_numbers)\n",
        "print(mean_atomic_num)\n",
        "print(max_atomic_num)\n",
        "print(min_atomic_num)"
      ],
      "metadata": {
        "id": "CCPkWlTJc_Fc",
        "colab": {
          "base_uri": "https://localhost:8080/"
        },
        "outputId": "43e1acff-e040-43ce-849b-69dfd190edc0"
      },
      "execution_count": null,
      "outputs": [
        {
          "output_type": "stream",
          "name": "stdout",
          "text": [
            "11.36\n",
            "32\n",
            "3\n"
          ]
        }
      ]
    },
    {
      "cell_type": "code",
      "source": [
        "mean_distance_matrix = np.mean(structure.distance_matrix)\n",
        "max_distance_matrix = np.max(structure.distance_matrix)\n",
        "min_distance_matrix = np.min(structure.distance_matrix)\n",
        "std_distance_matrix = np.std(structure.distance_matrix)\n",
        "\n",
        "print(mean_distance_matrix, max_distance_matrix,\n",
        "      min_distance_matrix, std_distance_matrix)"
      ],
      "metadata": {
        "colab": {
          "base_uri": "https://localhost:8080/"
        },
        "id": "d92Nj2UcvwzO",
        "outputId": "d5fc84bc-0607-4297-92ce-c9b97639550e"
      },
      "execution_count": null,
      "outputs": [
        {
          "output_type": "stream",
          "name": "stdout",
          "text": [
            "4.959714072129139 8.86931388531193 0.0 1.649027299561301\n"
          ]
        }
      ]
    },
    {
      "cell_type": "markdown",
      "source": [
        "### Building the Dataset"
      ],
      "metadata": {
        "id": "IgQtRdJR45pY"
      }
    },
    {
      "cell_type": "markdown",
      "source": [
        "### Step 1: Collecting the structures\n",
        "We want to predict the bandgaps of structures, so we need to collect the structures (dataset) along with their corresponding bandgaps (target vector).\n",
        "\n",
        "We will focus on stoichiometric perovskites: these are materials of the form ABC3. The followiing query will collect the CIFs and bandgaps for these materials from MP."
      ],
      "metadata": {
        "id": "S1rLCmau5DRP"
      }
    },
    {
      "cell_type": "code",
      "source": [
        "results = mpr.materials.summary.search(formula=\"ABC3\", # Replace \"ABC3\" with a valid chemical formula\n",
        "                                       fields=[\"material_id\", \"band_gap\"])"
      ],
      "metadata": {
        "colab": {
          "base_uri": "https://localhost:8080/",
          "height": 49,
          "referenced_widgets": [
            "5729707e6dea4e8d99f454fe55dfdebe",
            "6d464f45a9974535aec60969e1fd5782",
            "d6c6420b5cef42b69140a170f62028c8",
            "842ada22e9c547b2975158cdd1fb6b21",
            "5652a47ca98e4460afa113e6d19d0feb",
            "92dfd18c9f9b4cfaa0299584c844281f",
            "bdced504a9b245f68b7581ed3c9965b5",
            "59d967661fc54321b364ff135c80ce6c",
            "0a7642ecd7984e1fbe290008de2c8cd2",
            "4d4c7a32a30e49eaba518480a102ae16",
            "3838b2ff66be4e5f9fe3770da37e8ea8"
          ]
        },
        "id": "Kna9M-5k5XLX",
        "outputId": "0f7e469e-06f0-4555-f62e-80fa0f9f177c"
      },
      "execution_count": null,
      "outputs": [
        {
          "output_type": "display_data",
          "data": {
            "text/plain": [
              "Retrieving SummaryDoc documents:   0%|          | 0/4555 [00:00<?, ?it/s]"
            ],
            "application/vnd.jupyter.widget-view+json": {
              "version_major": 2,
              "version_minor": 0,
              "model_id": "5729707e6dea4e8d99f454fe55dfdebe"
            }
          },
          "metadata": {}
        }
      ]
    },
    {
      "cell_type": "code",
      "source": [
        "results[0:5]"
      ],
      "metadata": {
        "id": "kvib1A7u5P3F"
      },
      "execution_count": null,
      "outputs": []
    },
    {
      "cell_type": "code",
      "source": [
        "# prompt: get all the material ids from the above result\n",
        "\n",
        "material_ids = [result.material_id for result in results]\n",
        "print(material_ids[:5])"
      ],
      "metadata": {
        "id": "q2aD_lt8Bk3b",
        "colab": {
          "base_uri": "https://localhost:8080/"
        },
        "outputId": "d4a3efeb-7ab1-4a7b-d0e6-715c31ff296f"
      },
      "execution_count": null,
      "outputs": [
        {
          "output_type": "stream",
          "name": "stdout",
          "text": [
            "[MPID(mp-1183115), MPID(mp-1183052), MPID(mp-866101), MPID(mp-864606), MPID(mp-861502)]\n"
          ]
        }
      ]
    },
    {
      "cell_type": "markdown",
      "source": [
        "### Step 2: Pre-Processing\n"
      ],
      "metadata": {
        "id": "lZaKYCfe8o9W"
      }
    },
    {
      "cell_type": "code",
      "source": [
        "from pymatgen.io.cif import CifParser\n",
        "from urllib.request import urlopen\n",
        "import pandas as pd\n",
        "from pymatgen.ext.matproj import MPRester\n",
        "from pymatgen.ext.matproj import MPRestError\n",
        "import matplotlib.pyplot as plt\n",
        "import pandas as pd\n",
        "import numpy as np"
      ],
      "metadata": {
        "id": "J43GHt379RLc"
      },
      "execution_count": null,
      "outputs": []
    },
    {
      "cell_type": "code",
      "source": [
        "def descriptors(material_id):\n",
        "\n",
        "    atomic_numbers = []\n",
        "\n",
        "    distance_matrix = []\n",
        "    van_der_waals_radius = []\n",
        "    electrical_resistivity = []\n",
        "    velocity_of_sound = []\n",
        "    reflectivity = []\n",
        "    poissons_ratio = []\n",
        "    molar_volume = []\n",
        "    thermal_conductivity = []\n",
        "    melting_point = []\n",
        "    critical_temperature = []\n",
        "    superconduction_temperature = []\n",
        "    liquid_range = []\n",
        "    bulk_modulus = []\n",
        "    youngs_modulus = []\n",
        "    brinell_hardness = []\n",
        "    rigidity_modulus = []\n",
        "    # mineral_hardness = []\n",
        "    vickers_hardness = []\n",
        "    density_of_solid = []\n",
        "    coefficient_of_linear_thermal_expansion = []\n",
        "    average_ionic_radius = []\n",
        "    average_cationic_radius = []\n",
        "    average_anionic_radius = []\n",
        "\n",
        "    with MPRester(api_key= apikey) as mpr:\n",
        "        data = mpr.materials.search(material_ids=[material_id])\n",
        "\n",
        "    structure = data[0].structure\n",
        "\n",
        "\n",
        "    numElements = len(structure.atomic_numbers)\n",
        "\n",
        "    num_metals = 0\n",
        "    for e in structure.species:\n",
        "        if e.Z in range(3, 4+1) or e.Z in range(11, 12+1) or e.Z in range(19, 30+1) or e.Z in range(37, 48+1) or e.Z in range(55, 80 + 1) or e.Z in range(87, 112+1):\n",
        "            num_metals += 1\n",
        "    metals_fraction = num_metals/numElements\n",
        "\n",
        "    spg = structure.get_space_group_info()\n",
        "\n",
        "    spacegroup_numbers = {}\n",
        "    for i in range(1, 231):\n",
        "        spacegroup_numbers[i] = 0\n",
        "\n",
        "    spacegroup_numbers[spg[1]] = 1\n",
        "\n",
        "    spacegroup_numbers_list = []\n",
        "    for i in range(1, 231):\n",
        "        spacegroup_numbers_list += [spacegroup_numbers[i]]\n",
        "\n",
        "    atomic_numbers = [np.mean(structure.atomic_numbers), np.max(structure.atomic_numbers), np.min(\n",
        "        structure.atomic_numbers), np.std(structure.atomic_numbers)]\n",
        "\n",
        "    # Lattice parameters:\n",
        "    a_parameters = structure.lattice.abc[0]\n",
        "    b_parameters = structure.lattice.abc[1]\n",
        "    c_parameters = structure.lattice.abc[2]\n",
        "    alpha_parameters = structure.lattice.angles[0]\n",
        "    beta_parameters = structure.lattice.angles[1]\n",
        "    gamma_parameters = structure.lattice.angles[2]\n",
        "\n",
        "    distance_matrix += [np.mean(structure.distance_matrix), np.max(structure.distance_matrix),\n",
        "                        np.min(structure.distance_matrix), np.std(structure.distance_matrix)]\n",
        "\n",
        "    e1, e2, e3, e4, e5, e6, e7, e8, e9, e10, e11, e12, e13, e14, e15, e16, e17, e18, e19, e20, e21, e22, e23 = [\n",
        "    ], [], [], [], [], [], [], [], [], [], [], [], [], [], [], [], [], [], [], [], [], [], []\n",
        "    for e in structure.species:\n",
        "        e1 += [e.van_der_waals_radius]\n",
        "        e2 += [e.electrical_resistivity]\n",
        "        e3 += [e.velocity_of_sound]\n",
        "        e4 += [e.reflectivity]\n",
        "        e6 += [e.poissons_ratio]\n",
        "        e7 += [e.molar_volume]\n",
        "        e8 += [e.thermal_conductivity]\n",
        "        e9 += [e.melting_point]\n",
        "        e10 += [e.critical_temperature]\n",
        "        e11 += [e.superconduction_temperature]\n",
        "        e12 += [e.liquid_range]\n",
        "        e13 += [e.bulk_modulus]\n",
        "        e14 += [e.youngs_modulus]\n",
        "        e15 += [e.brinell_hardness]\n",
        "        e16 += [e.rigidity_modulus]\n",
        "        # e17 +=[e.mineral_hardness ]\n",
        "        e18 += [e.vickers_hardness]\n",
        "        e19 += [e.density_of_solid]\n",
        "        e20 += [e.coefficient_of_linear_thermal_expansion]\n",
        "        e21 += [e.average_ionic_radius]\n",
        "        e22 += [e.average_cationic_radius]\n",
        "        e23 += [e.average_anionic_radius]\n",
        "\n",
        "    e1 = [0 if v is None else v for v in e1]\n",
        "    e2 = [0 if v is None else v for v in e2]\n",
        "    e3 = [0 if v is None else v for v in e3]\n",
        "    e4 = [0 if v is None else v for v in e4]\n",
        "    # e5=[0 if v is None else v for v in e5]\n",
        "    e6 = [0 if v is None else v for v in e6]\n",
        "    e7 = [0 if v is None else v for v in e7]\n",
        "    e8 = [0 if v is None else v for v in e8]\n",
        "    e9 = [0 if v is None else v for v in e9]\n",
        "    e10 = [0 if v is None else v for v in e10]\n",
        "    e11 = [0 if v is None else v for v in e11]\n",
        "    e12 = [0 if v is None else v for v in e12]\n",
        "    e13 = [0 if v is None else v for v in e13]\n",
        "    e14 = [0 if v is None else v for v in e14]\n",
        "    e15 = [0 if v is None else v for v in e15]\n",
        "    e16 = [0 if v is None else v for v in e16]\n",
        "    # e17=[0 if v is None else v for v in e17]\n",
        "    e18 = [0 if v is None else v for v in e18]\n",
        "    e19 = [0 if v is None else v for v in e19]\n",
        "    e20 = [0 if v is None else v for v in e20]\n",
        "    e21 = [0 if v is None else v for v in e21]\n",
        "    e22 = [0 if v is None else v for v in e22]\n",
        "    e23 = [0 if v is None else v for v in e23]\n",
        "\n",
        "    van_der_waals_radius = [np.mean(e1), np.max(e1), np.min(e1), np.std(e1)]\n",
        "    electrical_resistivity = [np.mean(e2), np.max(e2), np.min(e2), np.std(e2)]\n",
        "    velocity_of_sound = [np.mean(e3), np.max(e3), np.min(e3), np.std(e3)]\n",
        "    reflectivity = [np.mean(e4), np.max(e4), np.min(e4), np.std(e4)]\n",
        "    poissons_ratio = [np.mean(e6), np.max(e6), np.min(e6), np.std(e6)]\n",
        "    molar_volume = [np.mean(e7), np.max(e7), np.min(e7), np.std(e7)]\n",
        "    thermal_conductivity = [np.mean(e8), np.max(e8), np.min(e8), np.std(e8)]\n",
        "    melting_point = [np.mean(e9), np.max(e9), np.min(e9), np.std(e9)]\n",
        "    critical_temperature = [np.mean(e10), np.max(e10), np.min(e10), np.std(e10)]\n",
        "    superconduction_temperature = [np.mean(e11), np.max(e11), np.min(e11), np.std(e11)]\n",
        "    liquid_range = [np.mean(e12), np.max(e12), np.min(e12), np.std(e12)]\n",
        "    bulk_modulus = [np.mean(e13), np.max(e13), np.min(e13), np.std(e13)]\n",
        "    youngs_modulus = [np.mean(e14), np.max(e14), np.min(e14), np.std(e14)]\n",
        "    brinell_hardness = [np.mean(e15), np.max(e15), np.min(e15), np.std(e15)]\n",
        "    rigidity_modulus = [np.mean(e16), np.max(e16), np.min(e16), np.std(e16)]\n",
        "    vickers_hardness = [np.mean(e18), np.max(e18), np.min(e18), np.std(e18)]\n",
        "    density_of_solid = [np.mean(e19), np.max(e19), np.min(e19), np.std(e19)]\n",
        "    coefficient_of_linear_thermal_expansion = [np.mean(e20), np.max(e20), np.min(e20), np.std(e20)]\n",
        "    average_ionic_radius = [np.mean(e21), np.max(e21), np.min(e21), np.std(e21)]\n",
        "    average_cationic_radius = [np.mean(e22), np.max(e22), np.min(e22), np.std(e22)]\n",
        "    average_anionic_radius = [np.mean(e23), np.max(e23), np.min(e23), np.std(e23)]\n",
        "\n",
        "    V = a_parameters*b_parameters*c_parameters\n",
        "    Density = V / numElements\n",
        "\n",
        "    descriptors_list = atomic_numbers +\\\n",
        "        [Density] +\\\n",
        "        [alpha_parameters] +\\\n",
        "        [beta_parameters] +\\\n",
        "        [gamma_parameters] +\\\n",
        "        [metals_fraction] +\\\n",
        "        distance_matrix +\\\n",
        "        van_der_waals_radius +\\\n",
        "        electrical_resistivity +\\\n",
        "        velocity_of_sound +\\\n",
        "        reflectivity +\\\n",
        "        poissons_ratio +\\\n",
        "        molar_volume +\\\n",
        "        thermal_conductivity +\\\n",
        "        melting_point +\\\n",
        "        critical_temperature +\\\n",
        "        superconduction_temperature +\\\n",
        "        liquid_range +\\\n",
        "        bulk_modulus +\\\n",
        "        youngs_modulus +\\\n",
        "        brinell_hardness +\\\n",
        "        rigidity_modulus +\\\n",
        "        vickers_hardness +\\\n",
        "        density_of_solid +\\\n",
        "        coefficient_of_linear_thermal_expansion +\\\n",
        "        average_ionic_radius +\\\n",
        "        average_cationic_radius +\\\n",
        "        average_anionic_radius +\\\n",
        "        spacegroup_numbers_list\n",
        "\n",
        "\n",
        "    return descriptors_list\n",
        "\n"
      ],
      "metadata": {
        "id": "BFfxfnjR6bKt"
      },
      "execution_count": null,
      "outputs": []
    },
    {
      "cell_type": "code",
      "source": [
        "descriptors(\"mp-696128\")"
      ],
      "metadata": {
        "colab": {
          "base_uri": "https://localhost:8080/",
          "height": 1000,
          "referenced_widgets": [
            "922102fefad54fea99e8fb2cb777c088",
            "ee9ac16f270349d5a0239d7fe77db6cb",
            "a6de567320424db8b39872d8fc1bc35c",
            "ff0f12f4d13841b49352513bbacddbc1",
            "7f0e075a0fd04197a542e47884aeee4e",
            "4e309de30e2b458f84848249cb26236c",
            "858580dadbdc4f17a187bfb4add35952",
            "b75b2acdfa0f468fa76a6c43216a173b",
            "8e6ef12d86e842a8a239326b8f39cdc7",
            "58f550b4bcbf49cdadb28ec30b417ff8",
            "ba0897a559214c598c19c521dcbdbc20"
          ]
        },
        "id": "g2MqCrf3BxpX",
        "outputId": "e1ec9df6-8e51-4ea6-f92c-969f2d0c10dd",
        "collapsed": true
      },
      "execution_count": null,
      "outputs": [
        {
          "output_type": "display_data",
          "data": {
            "text/plain": [
              "Retrieving MaterialsDoc documents:   0%|          | 0/1 [00:00<?, ?it/s]"
            ],
            "application/vnd.jupyter.widget-view+json": {
              "version_major": 2,
              "version_minor": 0,
              "model_id": "922102fefad54fea99e8fb2cb777c088"
            }
          },
          "metadata": {}
        },
        {
          "output_type": "stream",
          "name": "stderr",
          "text": [
            "/usr/local/lib/python3.10/dist-packages/pymatgen/core/periodic_table.py:181: UserWarning: No data available for reflectivity for Li\n",
            "  warnings.warn(f\"No data available for {item} for {self.symbol}\")\n",
            "/usr/local/lib/python3.10/dist-packages/pymatgen/core/periodic_table.py:181: UserWarning: No data available for poissons_ratio for Li\n",
            "  warnings.warn(f\"No data available for {item} for {self.symbol}\")\n",
            "/usr/local/lib/python3.10/dist-packages/pymatgen/core/periodic_table.py:181: UserWarning: No data available for superconduction_temperature for Li\n",
            "  warnings.warn(f\"No data available for {item} for {self.symbol}\")\n",
            "/usr/local/lib/python3.10/dist-packages/pymatgen/core/periodic_table.py:181: UserWarning: No data available for brinell_hardness for Li\n",
            "  warnings.warn(f\"No data available for {item} for {self.symbol}\")\n",
            "/usr/local/lib/python3.10/dist-packages/pymatgen/core/periodic_table.py:181: UserWarning: No data available for vickers_hardness for Li\n",
            "  warnings.warn(f\"No data available for {item} for {self.symbol}\")\n",
            "/usr/local/lib/python3.10/dist-packages/pymatgen/core/periodic_table.py:181: UserWarning: No data available for reflectivity for Ge\n",
            "  warnings.warn(f\"No data available for {item} for {self.symbol}\")\n",
            "/usr/local/lib/python3.10/dist-packages/pymatgen/core/periodic_table.py:181: UserWarning: No data available for poissons_ratio for Ge\n",
            "  warnings.warn(f\"No data available for {item} for {self.symbol}\")\n",
            "/usr/local/lib/python3.10/dist-packages/pymatgen/core/periodic_table.py:181: UserWarning: No data available for critical_temperature for Ge\n",
            "  warnings.warn(f\"No data available for {item} for {self.symbol}\")\n",
            "/usr/local/lib/python3.10/dist-packages/pymatgen/core/periodic_table.py:181: UserWarning: No data available for superconduction_temperature for Ge\n",
            "  warnings.warn(f\"No data available for {item} for {self.symbol}\")\n",
            "/usr/local/lib/python3.10/dist-packages/pymatgen/core/periodic_table.py:181: UserWarning: No data available for bulk_modulus for Ge\n",
            "  warnings.warn(f\"No data available for {item} for {self.symbol}\")\n",
            "/usr/local/lib/python3.10/dist-packages/pymatgen/core/periodic_table.py:181: UserWarning: No data available for youngs_modulus for Ge\n",
            "  warnings.warn(f\"No data available for {item} for {self.symbol}\")\n",
            "/usr/local/lib/python3.10/dist-packages/pymatgen/core/periodic_table.py:181: UserWarning: No data available for brinell_hardness for Ge\n",
            "  warnings.warn(f\"No data available for {item} for {self.symbol}\")\n",
            "/usr/local/lib/python3.10/dist-packages/pymatgen/core/periodic_table.py:181: UserWarning: No data available for rigidity_modulus for Ge\n",
            "  warnings.warn(f\"No data available for {item} for {self.symbol}\")\n",
            "/usr/local/lib/python3.10/dist-packages/pymatgen/core/periodic_table.py:181: UserWarning: No data available for vickers_hardness for Ge\n",
            "  warnings.warn(f\"No data available for {item} for {self.symbol}\")\n",
            "/usr/local/lib/python3.10/dist-packages/pymatgen/core/periodic_table.py:181: UserWarning: No data available for velocity_of_sound for P\n",
            "  warnings.warn(f\"No data available for {item} for {self.symbol}\")\n",
            "/usr/local/lib/python3.10/dist-packages/pymatgen/core/periodic_table.py:181: UserWarning: No data available for reflectivity for P\n",
            "  warnings.warn(f\"No data available for {item} for {self.symbol}\")\n",
            "/usr/local/lib/python3.10/dist-packages/pymatgen/core/periodic_table.py:181: UserWarning: No data available for poissons_ratio for P\n",
            "  warnings.warn(f\"No data available for {item} for {self.symbol}\")\n",
            "/usr/local/lib/python3.10/dist-packages/pymatgen/core/periodic_table.py:181: UserWarning: No data available for superconduction_temperature for P\n",
            "  warnings.warn(f\"No data available for {item} for {self.symbol}\")\n",
            "/usr/local/lib/python3.10/dist-packages/pymatgen/core/periodic_table.py:181: UserWarning: No data available for youngs_modulus for P\n",
            "  warnings.warn(f\"No data available for {item} for {self.symbol}\")\n",
            "/usr/local/lib/python3.10/dist-packages/pymatgen/core/periodic_table.py:181: UserWarning: No data available for brinell_hardness for P\n",
            "  warnings.warn(f\"No data available for {item} for {self.symbol}\")\n",
            "/usr/local/lib/python3.10/dist-packages/pymatgen/core/periodic_table.py:181: UserWarning: No data available for rigidity_modulus for P\n",
            "  warnings.warn(f\"No data available for {item} for {self.symbol}\")\n",
            "/usr/local/lib/python3.10/dist-packages/pymatgen/core/periodic_table.py:181: UserWarning: No data available for vickers_hardness for P\n",
            "  warnings.warn(f\"No data available for {item} for {self.symbol}\")\n",
            "/usr/local/lib/python3.10/dist-packages/pymatgen/core/periodic_table.py:181: UserWarning: No data available for coefficient_of_linear_thermal_expansion for P\n",
            "  warnings.warn(f\"No data available for {item} for {self.symbol}\")\n",
            "/usr/local/lib/python3.10/dist-packages/pymatgen/core/periodic_table.py:181: UserWarning: No data available for velocity_of_sound for S\n",
            "  warnings.warn(f\"No data available for {item} for {self.symbol}\")\n",
            "/usr/local/lib/python3.10/dist-packages/pymatgen/core/periodic_table.py:181: UserWarning: No data available for reflectivity for S\n",
            "  warnings.warn(f\"No data available for {item} for {self.symbol}\")\n",
            "/usr/local/lib/python3.10/dist-packages/pymatgen/core/periodic_table.py:181: UserWarning: No data available for poissons_ratio for S\n",
            "  warnings.warn(f\"No data available for {item} for {self.symbol}\")\n",
            "/usr/local/lib/python3.10/dist-packages/pymatgen/core/periodic_table.py:181: UserWarning: No data available for superconduction_temperature for S\n",
            "  warnings.warn(f\"No data available for {item} for {self.symbol}\")\n",
            "/usr/local/lib/python3.10/dist-packages/pymatgen/core/periodic_table.py:181: UserWarning: No data available for youngs_modulus for S\n",
            "  warnings.warn(f\"No data available for {item} for {self.symbol}\")\n",
            "/usr/local/lib/python3.10/dist-packages/pymatgen/core/periodic_table.py:181: UserWarning: No data available for brinell_hardness for S\n",
            "  warnings.warn(f\"No data available for {item} for {self.symbol}\")\n",
            "/usr/local/lib/python3.10/dist-packages/pymatgen/core/periodic_table.py:181: UserWarning: No data available for rigidity_modulus for S\n",
            "  warnings.warn(f\"No data available for {item} for {self.symbol}\")\n",
            "/usr/local/lib/python3.10/dist-packages/pymatgen/core/periodic_table.py:181: UserWarning: No data available for vickers_hardness for S\n",
            "  warnings.warn(f\"No data available for {item} for {self.symbol}\")\n",
            "/usr/local/lib/python3.10/dist-packages/pymatgen/core/periodic_table.py:181: UserWarning: No data available for coefficient_of_linear_thermal_expansion for S\n",
            "  warnings.warn(f\"No data available for {item} for {self.symbol}\")\n"
          ]
        },
        {
          "output_type": "execute_result",
          "data": {
            "text/plain": [
              "[11.36,\n",
              " 32,\n",
              " 3,\n",
              " 7.509354166637767,\n",
              " 19.549003175230588,\n",
              " 90.0,\n",
              " 90.0,\n",
              " 90.0,\n",
              " 0.4,\n",
              " 4.959714072129139,\n",
              " 8.86931388531193,\n",
              " 0.0,\n",
              " 1.649027299561301,\n",
              " 1.8204000000000002,\n",
              " 2.11,\n",
              " 1.8,\n",
              " 0.059898580951471596,\n",
              " 4.799999999999999e+22,\n",
              " 1e+23,\n",
              " 9.5e-08,\n",
              " 4.995998398718718e+22,\n",
              " 2616.0,\n",
              " 6000.0,\n",
              " 0.0,\n",
              " 2953.463052079711,\n",
              " 0.0,\n",
              " 0,\n",
              " 0,\n",
              " 0.0,\n",
              " 0.0,\n",
              " 0,\n",
              " 0,\n",
              " 0.0,\n",
              " 14.5692,\n",
              " 17.02,\n",
              " 13.02,\n",
              " 1.3852477612326248,\n",
              " 36.51728,\n",
              " 85.0,\n",
              " 0.205,\n",
              " 41.23727548082681,\n",
              " 441.72880000000004,\n",
              " 1211.4,\n",
              " 317.3,\n",
              " 162.35371969425276,\n",
              " 1999.44,\n",
              " 3223.0,\n",
              " 0.0,\n",
              " 1032.056319393472,\n",
              " 0.0,\n",
              " 0,\n",
              " 0,\n",
              " 0.0,\n",
              " 716.5688,\n",
              " 1881.6,\n",
              " 232.7,\n",
              " 473.34035339759487,\n",
              " 8.976,\n",
              " 11.0,\n",
              " 0.0,\n",
              " 2.4434860343370084,\n",
              " 1.96,\n",
              " 4.9,\n",
              " 0.0,\n",
              " 2.4004999479275146,\n",
              " 0.0,\n",
              " 0,\n",
              " 0,\n",
              " 0.0,\n",
              " 1.68,\n",
              " 4.2,\n",
              " 0.0,\n",
              " 2.0575713839378698,\n",
              " 0.0,\n",
              " 0,\n",
              " 0,\n",
              " 0.0,\n",
              " 1513.56,\n",
              " 5323.0,\n",
              " 535.0,\n",
              " 1032.8763751775912,\n",
              " 1.864e-05,\n",
              " 4.6e-05,\n",
              " 0.0,\n",
              " 2.2369407681027228e-05,\n",
              " 0.8572,\n",
              " 0.9,\n",
              " 0.55,\n",
              " 0.09400085105997709,\n",
              " 0.6603999999999999,\n",
              " 0.9,\n",
              " 0.47,\n",
              " 0.2044989975525553,\n",
              " 0.8160000000000001,\n",
              " 1.7,\n",
              " 0.0,\n",
              " 0.8493197277821821,\n",
              " 0,\n",
              " 0,\n",
              " 0,\n",
              " 0,\n",
              " 0,\n",
              " 0,\n",
              " 0,\n",
              " 0,\n",
              " 0,\n",
              " 0,\n",
              " 0,\n",
              " 0,\n",
              " 0,\n",
              " 0,\n",
              " 0,\n",
              " 0,\n",
              " 0,\n",
              " 0,\n",
              " 0,\n",
              " 0,\n",
              " 0,\n",
              " 0,\n",
              " 0,\n",
              " 0,\n",
              " 0,\n",
              " 0,\n",
              " 0,\n",
              " 0,\n",
              " 0,\n",
              " 0,\n",
              " 0,\n",
              " 0,\n",
              " 0,\n",
              " 0,\n",
              " 0,\n",
              " 0,\n",
              " 0,\n",
              " 0,\n",
              " 0,\n",
              " 0,\n",
              " 0,\n",
              " 0,\n",
              " 0,\n",
              " 0,\n",
              " 0,\n",
              " 0,\n",
              " 0,\n",
              " 0,\n",
              " 0,\n",
              " 0,\n",
              " 0,\n",
              " 0,\n",
              " 0,\n",
              " 0,\n",
              " 0,\n",
              " 0,\n",
              " 0,\n",
              " 0,\n",
              " 0,\n",
              " 0,\n",
              " 0,\n",
              " 0,\n",
              " 0,\n",
              " 0,\n",
              " 0,\n",
              " 0,\n",
              " 0,\n",
              " 0,\n",
              " 0,\n",
              " 0,\n",
              " 0,\n",
              " 0,\n",
              " 0,\n",
              " 0,\n",
              " 0,\n",
              " 0,\n",
              " 0,\n",
              " 0,\n",
              " 0,\n",
              " 0,\n",
              " 0,\n",
              " 0,\n",
              " 0,\n",
              " 0,\n",
              " 0,\n",
              " 0,\n",
              " 0,\n",
              " 0,\n",
              " 0,\n",
              " 0,\n",
              " 0,\n",
              " 0,\n",
              " 0,\n",
              " 0,\n",
              " 0,\n",
              " 0,\n",
              " 0,\n",
              " 0,\n",
              " 0,\n",
              " 0,\n",
              " 0,\n",
              " 0,\n",
              " 0,\n",
              " 0,\n",
              " 1,\n",
              " 0,\n",
              " 0,\n",
              " 0,\n",
              " 0,\n",
              " 0,\n",
              " 0,\n",
              " 0,\n",
              " 0,\n",
              " 0,\n",
              " 0,\n",
              " 0,\n",
              " 0,\n",
              " 0,\n",
              " 0,\n",
              " 0,\n",
              " 0,\n",
              " 0,\n",
              " 0,\n",
              " 0,\n",
              " 0,\n",
              " 0,\n",
              " 0,\n",
              " 0,\n",
              " 0,\n",
              " 0,\n",
              " 0,\n",
              " 0,\n",
              " 0,\n",
              " 0,\n",
              " 0,\n",
              " 0,\n",
              " 0,\n",
              " 0,\n",
              " 0,\n",
              " 0,\n",
              " 0,\n",
              " 0,\n",
              " 0,\n",
              " 0,\n",
              " 0,\n",
              " 0,\n",
              " 0,\n",
              " 0,\n",
              " 0,\n",
              " 0,\n",
              " 0,\n",
              " 0,\n",
              " 0,\n",
              " 0,\n",
              " 0,\n",
              " 0,\n",
              " 0,\n",
              " 0,\n",
              " 0,\n",
              " 0,\n",
              " 0,\n",
              " 0,\n",
              " 0,\n",
              " 0,\n",
              " 0,\n",
              " 0,\n",
              " 0,\n",
              " 0,\n",
              " 0,\n",
              " 0,\n",
              " 0,\n",
              " 0,\n",
              " 0,\n",
              " 0,\n",
              " 0,\n",
              " 0,\n",
              " 0,\n",
              " 0,\n",
              " 0,\n",
              " 0,\n",
              " 0,\n",
              " 0,\n",
              " 0,\n",
              " 0,\n",
              " 0,\n",
              " 0,\n",
              " 0,\n",
              " 0,\n",
              " 0,\n",
              " 0,\n",
              " 0,\n",
              " 0,\n",
              " 0,\n",
              " 0,\n",
              " 0,\n",
              " 0,\n",
              " 0,\n",
              " 0,\n",
              " 0,\n",
              " 0,\n",
              " 0,\n",
              " 0,\n",
              " 0,\n",
              " 0,\n",
              " 0,\n",
              " 0,\n",
              " 0,\n",
              " 0,\n",
              " 0,\n",
              " 0,\n",
              " 0,\n",
              " 0,\n",
              " 0,\n",
              " 0,\n",
              " 0,\n",
              " 0,\n",
              " 0,\n",
              " 0,\n",
              " 0,\n",
              " 0,\n",
              " 0,\n",
              " 0,\n",
              " 0,\n",
              " 0,\n",
              " 0,\n",
              " 0,\n",
              " 0,\n",
              " 0,\n",
              " 0,\n",
              " 0]"
            ]
          },
          "metadata": {},
          "execution_count": 24
        }
      ]
    },
    {
      "cell_type": "markdown",
      "source": [
        "### Making the dataset\n",
        "Now let's iterate through the list of results and extract our descriptors into the above lists. This will take a few minutes."
      ],
      "metadata": {
        "id": "YEnQ833iE19X"
      }
    },
    {
      "cell_type": "code",
      "source": [
        "type(material_ids)"
      ],
      "metadata": {
        "colab": {
          "base_uri": "https://localhost:8080/"
        },
        "id": "m7ZrkOozGz_l",
        "outputId": "d3a225a2-7700-41fe-f480-40d355918273"
      },
      "execution_count": null,
      "outputs": [
        {
          "output_type": "execute_result",
          "data": {
            "text/plain": [
              "list"
            ]
          },
          "metadata": {},
          "execution_count": 25
        }
      ]
    },
    {
      "cell_type": "code",
      "source": [
        "material_ids[0:4]"
      ],
      "metadata": {
        "colab": {
          "base_uri": "https://localhost:8080/"
        },
        "id": "JfsaDZ3IHdxN",
        "outputId": "19691955-d9a0-4eb3-cafb-614ddd61caf1"
      },
      "execution_count": null,
      "outputs": [
        {
          "output_type": "execute_result",
          "data": {
            "text/plain": [
              "[MPID(mp-1183115), MPID(mp-1183052), MPID(mp-866101), MPID(mp-864606)]"
            ]
          },
          "metadata": {},
          "execution_count": 26
        }
      ]
    },
    {
      "cell_type": "code",
      "source": [
        "(material_ids[5][:])"
      ],
      "metadata": {
        "colab": {
          "base_uri": "https://localhost:8080/",
          "height": 36
        },
        "id": "oW8YiFaSIXOE",
        "outputId": "4580e2be-4fab-45c1-e85e-df1ea07efcd7"
      },
      "execution_count": null,
      "outputs": [
        {
          "output_type": "execute_result",
          "data": {
            "text/plain": [
              "'mp-1183053'"
            ],
            "application/vnd.google.colaboratory.intrinsic+json": {
              "type": "string"
            }
          },
          "metadata": {},
          "execution_count": 27
        }
      ]
    },
    {
      "cell_type": "code",
      "source": [
        "# Initialize lists to store descriptors and band gaps\n",
        "all_descriptors = []\n",
        "all_bandgaps = []\n",
        "\n",
        "# Iterate through the results and extract descriptors and band gaps\n",
        "for result in results:\n",
        "    material_id = result.material_id\n",
        "    band_gap = result.band_gap\n",
        "\n",
        "    try:\n",
        "        # Calculate descriptors for the material\n",
        "        material_descriptors = descriptors(material_id)\n",
        "\n",
        "        # Append descriptors and band gap to the lists\n",
        "        all_descriptors.append(material_descriptors)\n",
        "        all_bandgaps.append(band_gap)\n",
        "\n",
        "    except (MPRestError, ValueError) as e:\n",
        "        # Handle errors gracefully, e.g., skip materials that cause issues\n",
        "        print(f\"Error processing {material_id}: {e}\")\n",
        "\n",
        "# Convert the lists to a Pandas DataFrame for easier handling\n",
        "df = pd.DataFrame(all_descriptors)\n",
        "df['band_gap'] = all_bandgaps\n"
      ],
      "metadata": {
        "id": "Y-od7vZMs2g-"
      },
      "execution_count": null,
      "outputs": []
    },
    {
      "cell_type": "code",
      "source": [
        "df.head()"
      ],
      "metadata": {
        "id": "SJLeownVE4vV",
        "colab": {
          "base_uri": "https://localhost:8080/",
          "height": 235
        },
        "outputId": "ef04abaf-1dab-4845-a99a-b507943c6b1f"
      },
      "execution_count": null,
      "outputs": [
        {
          "output_type": "execute_result",
          "data": {
            "text/plain": [
              "      0   1  2          3          4          5     6     7    8         9  \\\n",
              "0  25.2  89  8  31.958723  11.490283  90.000000  90.0  90.0  0.2  2.040034   \n",
              "1  23.6  89  5  32.720636  10.309625  90.000000  90.0  90.0  0.2  1.967621   \n",
              "2  27.4  89  8  31.417193  12.272569  90.000000  90.0  90.0  0.4  2.085318   \n",
              "3  28.4  89  8  31.372600  11.985877  90.000000  90.0  90.0  0.4  2.068944   \n",
              "4  27.8  89  8  31.384072  12.359462  90.000092  90.0  90.0  0.4  2.090224   \n",
              "\n",
              "   ...  318  319  320  321  322  323  324  325  326  band_gap  \n",
              "0  ...    0    0    0    0    0    0    0    0    0    4.1024  \n",
              "1  ...    0    0    0    0    0    0    0    0    0    0.8071  \n",
              "2  ...    0    0    0    0    0    0    0    0    0    2.0031  \n",
              "3  ...    0    0    0    0    0    0    0    0    0    0.0000  \n",
              "4  ...    0    0    0    0    0    0    0    0    0    0.9888  \n",
              "\n",
              "[5 rows x 328 columns]"
            ],
            "text/html": [
              "\n",
              "  <div id=\"df-2aadd714-5108-4095-9fd9-758d8bfe0c97\" class=\"colab-df-container\">\n",
              "    <div>\n",
              "<style scoped>\n",
              "    .dataframe tbody tr th:only-of-type {\n",
              "        vertical-align: middle;\n",
              "    }\n",
              "\n",
              "    .dataframe tbody tr th {\n",
              "        vertical-align: top;\n",
              "    }\n",
              "\n",
              "    .dataframe thead th {\n",
              "        text-align: right;\n",
              "    }\n",
              "</style>\n",
              "<table border=\"1\" class=\"dataframe\">\n",
              "  <thead>\n",
              "    <tr style=\"text-align: right;\">\n",
              "      <th></th>\n",
              "      <th>0</th>\n",
              "      <th>1</th>\n",
              "      <th>2</th>\n",
              "      <th>3</th>\n",
              "      <th>4</th>\n",
              "      <th>5</th>\n",
              "      <th>6</th>\n",
              "      <th>7</th>\n",
              "      <th>8</th>\n",
              "      <th>9</th>\n",
              "      <th>...</th>\n",
              "      <th>318</th>\n",
              "      <th>319</th>\n",
              "      <th>320</th>\n",
              "      <th>321</th>\n",
              "      <th>322</th>\n",
              "      <th>323</th>\n",
              "      <th>324</th>\n",
              "      <th>325</th>\n",
              "      <th>326</th>\n",
              "      <th>band_gap</th>\n",
              "    </tr>\n",
              "  </thead>\n",
              "  <tbody>\n",
              "    <tr>\n",
              "      <th>0</th>\n",
              "      <td>25.2</td>\n",
              "      <td>89</td>\n",
              "      <td>8</td>\n",
              "      <td>31.958723</td>\n",
              "      <td>11.490283</td>\n",
              "      <td>90.000000</td>\n",
              "      <td>90.0</td>\n",
              "      <td>90.0</td>\n",
              "      <td>0.2</td>\n",
              "      <td>2.040034</td>\n",
              "      <td>...</td>\n",
              "      <td>0</td>\n",
              "      <td>0</td>\n",
              "      <td>0</td>\n",
              "      <td>0</td>\n",
              "      <td>0</td>\n",
              "      <td>0</td>\n",
              "      <td>0</td>\n",
              "      <td>0</td>\n",
              "      <td>0</td>\n",
              "      <td>4.1024</td>\n",
              "    </tr>\n",
              "    <tr>\n",
              "      <th>1</th>\n",
              "      <td>23.6</td>\n",
              "      <td>89</td>\n",
              "      <td>5</td>\n",
              "      <td>32.720636</td>\n",
              "      <td>10.309625</td>\n",
              "      <td>90.000000</td>\n",
              "      <td>90.0</td>\n",
              "      <td>90.0</td>\n",
              "      <td>0.2</td>\n",
              "      <td>1.967621</td>\n",
              "      <td>...</td>\n",
              "      <td>0</td>\n",
              "      <td>0</td>\n",
              "      <td>0</td>\n",
              "      <td>0</td>\n",
              "      <td>0</td>\n",
              "      <td>0</td>\n",
              "      <td>0</td>\n",
              "      <td>0</td>\n",
              "      <td>0</td>\n",
              "      <td>0.8071</td>\n",
              "    </tr>\n",
              "    <tr>\n",
              "      <th>2</th>\n",
              "      <td>27.4</td>\n",
              "      <td>89</td>\n",
              "      <td>8</td>\n",
              "      <td>31.417193</td>\n",
              "      <td>12.272569</td>\n",
              "      <td>90.000000</td>\n",
              "      <td>90.0</td>\n",
              "      <td>90.0</td>\n",
              "      <td>0.4</td>\n",
              "      <td>2.085318</td>\n",
              "      <td>...</td>\n",
              "      <td>0</td>\n",
              "      <td>0</td>\n",
              "      <td>0</td>\n",
              "      <td>0</td>\n",
              "      <td>0</td>\n",
              "      <td>0</td>\n",
              "      <td>0</td>\n",
              "      <td>0</td>\n",
              "      <td>0</td>\n",
              "      <td>2.0031</td>\n",
              "    </tr>\n",
              "    <tr>\n",
              "      <th>3</th>\n",
              "      <td>28.4</td>\n",
              "      <td>89</td>\n",
              "      <td>8</td>\n",
              "      <td>31.372600</td>\n",
              "      <td>11.985877</td>\n",
              "      <td>90.000000</td>\n",
              "      <td>90.0</td>\n",
              "      <td>90.0</td>\n",
              "      <td>0.4</td>\n",
              "      <td>2.068944</td>\n",
              "      <td>...</td>\n",
              "      <td>0</td>\n",
              "      <td>0</td>\n",
              "      <td>0</td>\n",
              "      <td>0</td>\n",
              "      <td>0</td>\n",
              "      <td>0</td>\n",
              "      <td>0</td>\n",
              "      <td>0</td>\n",
              "      <td>0</td>\n",
              "      <td>0.0000</td>\n",
              "    </tr>\n",
              "    <tr>\n",
              "      <th>4</th>\n",
              "      <td>27.8</td>\n",
              "      <td>89</td>\n",
              "      <td>8</td>\n",
              "      <td>31.384072</td>\n",
              "      <td>12.359462</td>\n",
              "      <td>90.000092</td>\n",
              "      <td>90.0</td>\n",
              "      <td>90.0</td>\n",
              "      <td>0.4</td>\n",
              "      <td>2.090224</td>\n",
              "      <td>...</td>\n",
              "      <td>0</td>\n",
              "      <td>0</td>\n",
              "      <td>0</td>\n",
              "      <td>0</td>\n",
              "      <td>0</td>\n",
              "      <td>0</td>\n",
              "      <td>0</td>\n",
              "      <td>0</td>\n",
              "      <td>0</td>\n",
              "      <td>0.9888</td>\n",
              "    </tr>\n",
              "  </tbody>\n",
              "</table>\n",
              "<p>5 rows × 328 columns</p>\n",
              "</div>\n",
              "    <div class=\"colab-df-buttons\">\n",
              "\n",
              "  <div class=\"colab-df-container\">\n",
              "    <button class=\"colab-df-convert\" onclick=\"convertToInteractive('df-2aadd714-5108-4095-9fd9-758d8bfe0c97')\"\n",
              "            title=\"Convert this dataframe to an interactive table.\"\n",
              "            style=\"display:none;\">\n",
              "\n",
              "  <svg xmlns=\"http://www.w3.org/2000/svg\" height=\"24px\" viewBox=\"0 -960 960 960\">\n",
              "    <path d=\"M120-120v-720h720v720H120Zm60-500h600v-160H180v160Zm220 220h160v-160H400v160Zm0 220h160v-160H400v160ZM180-400h160v-160H180v160Zm440 0h160v-160H620v160ZM180-180h160v-160H180v160Zm440 0h160v-160H620v160Z\"/>\n",
              "  </svg>\n",
              "    </button>\n",
              "\n",
              "  <style>\n",
              "    .colab-df-container {\n",
              "      display:flex;\n",
              "      gap: 12px;\n",
              "    }\n",
              "\n",
              "    .colab-df-convert {\n",
              "      background-color: #E8F0FE;\n",
              "      border: none;\n",
              "      border-radius: 50%;\n",
              "      cursor: pointer;\n",
              "      display: none;\n",
              "      fill: #1967D2;\n",
              "      height: 32px;\n",
              "      padding: 0 0 0 0;\n",
              "      width: 32px;\n",
              "    }\n",
              "\n",
              "    .colab-df-convert:hover {\n",
              "      background-color: #E2EBFA;\n",
              "      box-shadow: 0px 1px 2px rgba(60, 64, 67, 0.3), 0px 1px 3px 1px rgba(60, 64, 67, 0.15);\n",
              "      fill: #174EA6;\n",
              "    }\n",
              "\n",
              "    .colab-df-buttons div {\n",
              "      margin-bottom: 4px;\n",
              "    }\n",
              "\n",
              "    [theme=dark] .colab-df-convert {\n",
              "      background-color: #3B4455;\n",
              "      fill: #D2E3FC;\n",
              "    }\n",
              "\n",
              "    [theme=dark] .colab-df-convert:hover {\n",
              "      background-color: #434B5C;\n",
              "      box-shadow: 0px 1px 3px 1px rgba(0, 0, 0, 0.15);\n",
              "      filter: drop-shadow(0px 1px 2px rgba(0, 0, 0, 0.3));\n",
              "      fill: #FFFFFF;\n",
              "    }\n",
              "  </style>\n",
              "\n",
              "    <script>\n",
              "      const buttonEl =\n",
              "        document.querySelector('#df-2aadd714-5108-4095-9fd9-758d8bfe0c97 button.colab-df-convert');\n",
              "      buttonEl.style.display =\n",
              "        google.colab.kernel.accessAllowed ? 'block' : 'none';\n",
              "\n",
              "      async function convertToInteractive(key) {\n",
              "        const element = document.querySelector('#df-2aadd714-5108-4095-9fd9-758d8bfe0c97');\n",
              "        const dataTable =\n",
              "          await google.colab.kernel.invokeFunction('convertToInteractive',\n",
              "                                                    [key], {});\n",
              "        if (!dataTable) return;\n",
              "\n",
              "        const docLinkHtml = 'Like what you see? Visit the ' +\n",
              "          '<a target=\"_blank\" href=https://colab.research.google.com/notebooks/data_table.ipynb>data table notebook</a>'\n",
              "          + ' to learn more about interactive tables.';\n",
              "        element.innerHTML = '';\n",
              "        dataTable['output_type'] = 'display_data';\n",
              "        await google.colab.output.renderOutput(dataTable, element);\n",
              "        const docLink = document.createElement('div');\n",
              "        docLink.innerHTML = docLinkHtml;\n",
              "        element.appendChild(docLink);\n",
              "      }\n",
              "    </script>\n",
              "  </div>\n",
              "\n",
              "\n",
              "<div id=\"df-3d371101-1dfb-45fa-b5d3-508b8959a268\">\n",
              "  <button class=\"colab-df-quickchart\" onclick=\"quickchart('df-3d371101-1dfb-45fa-b5d3-508b8959a268')\"\n",
              "            title=\"Suggest charts\"\n",
              "            style=\"display:none;\">\n",
              "\n",
              "<svg xmlns=\"http://www.w3.org/2000/svg\" height=\"24px\"viewBox=\"0 0 24 24\"\n",
              "     width=\"24px\">\n",
              "    <g>\n",
              "        <path d=\"M19 3H5c-1.1 0-2 .9-2 2v14c0 1.1.9 2 2 2h14c1.1 0 2-.9 2-2V5c0-1.1-.9-2-2-2zM9 17H7v-7h2v7zm4 0h-2V7h2v10zm4 0h-2v-4h2v4z\"/>\n",
              "    </g>\n",
              "</svg>\n",
              "  </button>\n",
              "\n",
              "<style>\n",
              "  .colab-df-quickchart {\n",
              "      --bg-color: #E8F0FE;\n",
              "      --fill-color: #1967D2;\n",
              "      --hover-bg-color: #E2EBFA;\n",
              "      --hover-fill-color: #174EA6;\n",
              "      --disabled-fill-color: #AAA;\n",
              "      --disabled-bg-color: #DDD;\n",
              "  }\n",
              "\n",
              "  [theme=dark] .colab-df-quickchart {\n",
              "      --bg-color: #3B4455;\n",
              "      --fill-color: #D2E3FC;\n",
              "      --hover-bg-color: #434B5C;\n",
              "      --hover-fill-color: #FFFFFF;\n",
              "      --disabled-bg-color: #3B4455;\n",
              "      --disabled-fill-color: #666;\n",
              "  }\n",
              "\n",
              "  .colab-df-quickchart {\n",
              "    background-color: var(--bg-color);\n",
              "    border: none;\n",
              "    border-radius: 50%;\n",
              "    cursor: pointer;\n",
              "    display: none;\n",
              "    fill: var(--fill-color);\n",
              "    height: 32px;\n",
              "    padding: 0;\n",
              "    width: 32px;\n",
              "  }\n",
              "\n",
              "  .colab-df-quickchart:hover {\n",
              "    background-color: var(--hover-bg-color);\n",
              "    box-shadow: 0 1px 2px rgba(60, 64, 67, 0.3), 0 1px 3px 1px rgba(60, 64, 67, 0.15);\n",
              "    fill: var(--button-hover-fill-color);\n",
              "  }\n",
              "\n",
              "  .colab-df-quickchart-complete:disabled,\n",
              "  .colab-df-quickchart-complete:disabled:hover {\n",
              "    background-color: var(--disabled-bg-color);\n",
              "    fill: var(--disabled-fill-color);\n",
              "    box-shadow: none;\n",
              "  }\n",
              "\n",
              "  .colab-df-spinner {\n",
              "    border: 2px solid var(--fill-color);\n",
              "    border-color: transparent;\n",
              "    border-bottom-color: var(--fill-color);\n",
              "    animation:\n",
              "      spin 1s steps(1) infinite;\n",
              "  }\n",
              "\n",
              "  @keyframes spin {\n",
              "    0% {\n",
              "      border-color: transparent;\n",
              "      border-bottom-color: var(--fill-color);\n",
              "      border-left-color: var(--fill-color);\n",
              "    }\n",
              "    20% {\n",
              "      border-color: transparent;\n",
              "      border-left-color: var(--fill-color);\n",
              "      border-top-color: var(--fill-color);\n",
              "    }\n",
              "    30% {\n",
              "      border-color: transparent;\n",
              "      border-left-color: var(--fill-color);\n",
              "      border-top-color: var(--fill-color);\n",
              "      border-right-color: var(--fill-color);\n",
              "    }\n",
              "    40% {\n",
              "      border-color: transparent;\n",
              "      border-right-color: var(--fill-color);\n",
              "      border-top-color: var(--fill-color);\n",
              "    }\n",
              "    60% {\n",
              "      border-color: transparent;\n",
              "      border-right-color: var(--fill-color);\n",
              "    }\n",
              "    80% {\n",
              "      border-color: transparent;\n",
              "      border-right-color: var(--fill-color);\n",
              "      border-bottom-color: var(--fill-color);\n",
              "    }\n",
              "    90% {\n",
              "      border-color: transparent;\n",
              "      border-bottom-color: var(--fill-color);\n",
              "    }\n",
              "  }\n",
              "</style>\n",
              "\n",
              "  <script>\n",
              "    async function quickchart(key) {\n",
              "      const quickchartButtonEl =\n",
              "        document.querySelector('#' + key + ' button');\n",
              "      quickchartButtonEl.disabled = true;  // To prevent multiple clicks.\n",
              "      quickchartButtonEl.classList.add('colab-df-spinner');\n",
              "      try {\n",
              "        const charts = await google.colab.kernel.invokeFunction(\n",
              "            'suggestCharts', [key], {});\n",
              "      } catch (error) {\n",
              "        console.error('Error during call to suggestCharts:', error);\n",
              "      }\n",
              "      quickchartButtonEl.classList.remove('colab-df-spinner');\n",
              "      quickchartButtonEl.classList.add('colab-df-quickchart-complete');\n",
              "    }\n",
              "    (() => {\n",
              "      let quickchartButtonEl =\n",
              "        document.querySelector('#df-3d371101-1dfb-45fa-b5d3-508b8959a268 button');\n",
              "      quickchartButtonEl.style.display =\n",
              "        google.colab.kernel.accessAllowed ? 'block' : 'none';\n",
              "    })();\n",
              "  </script>\n",
              "</div>\n",
              "\n",
              "    </div>\n",
              "  </div>\n"
            ],
            "application/vnd.google.colaboratory.intrinsic+json": {
              "type": "dataframe",
              "variable_name": "df"
            }
          },
          "metadata": {},
          "execution_count": 29
        }
      ]
    },
    {
      "cell_type": "code",
      "source": [
        "# Downloading dataset\n",
        "# from google.colab import files\n",
        "# df.to_csv('dataset.csv', index=False)\n",
        "# files.download('dataset.csv')\n"
      ],
      "metadata": {
        "id": "cBMBwP6SSyza"
      },
      "execution_count": null,
      "outputs": []
    },
    {
      "cell_type": "code",
      "source": [
        "# plt.rcParams.update({'font.size': 20})\n",
        "\n",
        "# plt.figure(figsize=(10, 10))\n",
        "# plt.hist(band_gap, bins=100)\n",
        "# plt.savefig('Histogram_PDF', bbox_inches='tight')"
      ],
      "metadata": {
        "collapsed": true,
        "id": "lmgJvEEAiTze"
      },
      "execution_count": null,
      "outputs": []
    },
    {
      "cell_type": "code",
      "source": [
        "# # Sort the DataFrame by band gap values\n",
        "# df_sorted = df.sort_values('band_gap')\n",
        "\n",
        "# # Extract the sorted band gap values\n",
        "# sorted_bandgaps = df_sorted['band_gap'].values\n",
        "\n",
        "# # Create a scatter plot\n",
        "# plt.figure(figsize=(10, 6))\n",
        "# plt.scatter(range(len(sorted_bandgaps)), sorted_bandgaps)\n",
        "# plt.xlabel('Index')\n",
        "# plt.ylabel('Band Gap (eV)')\n",
        "# plt.title('Scatter Plot of Sorted Band Gaps')\n",
        "# plt.grid(True)\n",
        "# plt.show()\n"
      ],
      "metadata": {
        "id": "sg3JzpkKjzFs"
      },
      "execution_count": null,
      "outputs": []
    }
  ]
}